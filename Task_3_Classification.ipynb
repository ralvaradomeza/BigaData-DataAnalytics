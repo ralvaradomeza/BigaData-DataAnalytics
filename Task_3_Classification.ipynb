{
 "cells": [
  {
   "cell_type": "code",
   "execution_count": 25,
   "metadata": {},
   "outputs": [],
   "source": [
    "#imports\n",
    "#numpy, pandas, scipy, math, matplotlib\n",
    "\n",
    "import numpy as np\n",
    "import pandas as pd\n",
    "import scipy\n",
    "from math import sqrt\n",
    "import matplotlib.pyplot as plt\n",
    "import seaborn as sns\n",
    "\n",
    "\n",
    "#estimators\n",
    "\n",
    "from sklearn.ensemble import RandomForestClassifier\n",
    "from sklearn.svm import SVC\n",
    "from sklearn.ensemble import GradientBoostingClassifier\n",
    "\n",
    "\n",
    "#model metrics\n",
    "\n",
    "from sklearn.metrics import mean_squared_error\n",
    "from sklearn.metrics import r2_score\n",
    "from sklearn.model_selection import cross_val_score\n",
    "from sklearn.metrics import accuracy_score\n",
    "from sklearn.metrics import precision_score\n",
    "from sklearn.metrics import recall_score\n",
    "from sklearn.model_selection import cross_val_score\n",
    "\n",
    "#cross validation\n",
    "\n",
    "from sklearn.model_selection import train_test_split"
   ]
  },
  {
   "cell_type": "code",
   "execution_count": 2,
   "metadata": {},
   "outputs": [
    {
     "data": {
      "text/html": [
       "<div>\n",
       "<style scoped>\n",
       "    .dataframe tbody tr th:only-of-type {\n",
       "        vertical-align: middle;\n",
       "    }\n",
       "\n",
       "    .dataframe tbody tr th {\n",
       "        vertical-align: top;\n",
       "    }\n",
       "\n",
       "    .dataframe thead th {\n",
       "        text-align: right;\n",
       "    }\n",
       "</style>\n",
       "<table border=\"1\" class=\"dataframe\">\n",
       "  <thead>\n",
       "    <tr style=\"text-align: right;\">\n",
       "      <th></th>\n",
       "      <th>ID</th>\n",
       "      <th>LIMIT_BAL</th>\n",
       "      <th>SEX</th>\n",
       "      <th>EDUCATION</th>\n",
       "      <th>MARRIAGE</th>\n",
       "      <th>AGE</th>\n",
       "      <th>PAY_0</th>\n",
       "      <th>PAY_2</th>\n",
       "      <th>PAY_3</th>\n",
       "      <th>PAY_4</th>\n",
       "      <th>...</th>\n",
       "      <th>BILL_AMT4</th>\n",
       "      <th>BILL_AMT5</th>\n",
       "      <th>BILL_AMT6</th>\n",
       "      <th>PAY_AMT1</th>\n",
       "      <th>PAY_AMT2</th>\n",
       "      <th>PAY_AMT3</th>\n",
       "      <th>PAY_AMT4</th>\n",
       "      <th>PAY_AMT5</th>\n",
       "      <th>PAY_AMT6</th>\n",
       "      <th>default payment next month</th>\n",
       "    </tr>\n",
       "  </thead>\n",
       "  <tbody>\n",
       "    <tr>\n",
       "      <td>0</td>\n",
       "      <td>1</td>\n",
       "      <td>20000</td>\n",
       "      <td>2</td>\n",
       "      <td>2</td>\n",
       "      <td>1</td>\n",
       "      <td>24</td>\n",
       "      <td>2</td>\n",
       "      <td>2</td>\n",
       "      <td>-1</td>\n",
       "      <td>-1</td>\n",
       "      <td>...</td>\n",
       "      <td>0</td>\n",
       "      <td>0</td>\n",
       "      <td>0</td>\n",
       "      <td>0</td>\n",
       "      <td>689</td>\n",
       "      <td>0</td>\n",
       "      <td>0</td>\n",
       "      <td>0</td>\n",
       "      <td>0</td>\n",
       "      <td>1</td>\n",
       "    </tr>\n",
       "    <tr>\n",
       "      <td>1</td>\n",
       "      <td>2</td>\n",
       "      <td>120000</td>\n",
       "      <td>2</td>\n",
       "      <td>2</td>\n",
       "      <td>2</td>\n",
       "      <td>26</td>\n",
       "      <td>-1</td>\n",
       "      <td>2</td>\n",
       "      <td>0</td>\n",
       "      <td>0</td>\n",
       "      <td>...</td>\n",
       "      <td>3272</td>\n",
       "      <td>3455</td>\n",
       "      <td>3261</td>\n",
       "      <td>0</td>\n",
       "      <td>1000</td>\n",
       "      <td>1000</td>\n",
       "      <td>1000</td>\n",
       "      <td>0</td>\n",
       "      <td>2000</td>\n",
       "      <td>1</td>\n",
       "    </tr>\n",
       "    <tr>\n",
       "      <td>2</td>\n",
       "      <td>3</td>\n",
       "      <td>90000</td>\n",
       "      <td>2</td>\n",
       "      <td>2</td>\n",
       "      <td>2</td>\n",
       "      <td>34</td>\n",
       "      <td>0</td>\n",
       "      <td>0</td>\n",
       "      <td>0</td>\n",
       "      <td>0</td>\n",
       "      <td>...</td>\n",
       "      <td>14331</td>\n",
       "      <td>14948</td>\n",
       "      <td>15549</td>\n",
       "      <td>1518</td>\n",
       "      <td>1500</td>\n",
       "      <td>1000</td>\n",
       "      <td>1000</td>\n",
       "      <td>1000</td>\n",
       "      <td>5000</td>\n",
       "      <td>0</td>\n",
       "    </tr>\n",
       "    <tr>\n",
       "      <td>3</td>\n",
       "      <td>4</td>\n",
       "      <td>50000</td>\n",
       "      <td>2</td>\n",
       "      <td>2</td>\n",
       "      <td>1</td>\n",
       "      <td>37</td>\n",
       "      <td>0</td>\n",
       "      <td>0</td>\n",
       "      <td>0</td>\n",
       "      <td>0</td>\n",
       "      <td>...</td>\n",
       "      <td>28314</td>\n",
       "      <td>28959</td>\n",
       "      <td>29547</td>\n",
       "      <td>2000</td>\n",
       "      <td>2019</td>\n",
       "      <td>1200</td>\n",
       "      <td>1100</td>\n",
       "      <td>1069</td>\n",
       "      <td>1000</td>\n",
       "      <td>0</td>\n",
       "    </tr>\n",
       "    <tr>\n",
       "      <td>4</td>\n",
       "      <td>5</td>\n",
       "      <td>50000</td>\n",
       "      <td>1</td>\n",
       "      <td>2</td>\n",
       "      <td>1</td>\n",
       "      <td>57</td>\n",
       "      <td>-1</td>\n",
       "      <td>0</td>\n",
       "      <td>-1</td>\n",
       "      <td>0</td>\n",
       "      <td>...</td>\n",
       "      <td>20940</td>\n",
       "      <td>19146</td>\n",
       "      <td>19131</td>\n",
       "      <td>2000</td>\n",
       "      <td>36681</td>\n",
       "      <td>10000</td>\n",
       "      <td>9000</td>\n",
       "      <td>689</td>\n",
       "      <td>679</td>\n",
       "      <td>0</td>\n",
       "    </tr>\n",
       "  </tbody>\n",
       "</table>\n",
       "<p>5 rows × 25 columns</p>\n",
       "</div>"
      ],
      "text/plain": [
       "   ID  LIMIT_BAL  SEX  EDUCATION  MARRIAGE  AGE  PAY_0  PAY_2  PAY_3  PAY_4  \\\n",
       "0   1      20000    2          2         1   24      2      2     -1     -1   \n",
       "1   2     120000    2          2         2   26     -1      2      0      0   \n",
       "2   3      90000    2          2         2   34      0      0      0      0   \n",
       "3   4      50000    2          2         1   37      0      0      0      0   \n",
       "4   5      50000    1          2         1   57     -1      0     -1      0   \n",
       "\n",
       "   ...  BILL_AMT4  BILL_AMT5  BILL_AMT6  PAY_AMT1  PAY_AMT2  PAY_AMT3  \\\n",
       "0  ...          0          0          0         0       689         0   \n",
       "1  ...       3272       3455       3261         0      1000      1000   \n",
       "2  ...      14331      14948      15549      1518      1500      1000   \n",
       "3  ...      28314      28959      29547      2000      2019      1200   \n",
       "4  ...      20940      19146      19131      2000     36681     10000   \n",
       "\n",
       "   PAY_AMT4  PAY_AMT5  PAY_AMT6  default payment next month  \n",
       "0         0         0         0                           1  \n",
       "1      1000         0      2000                           1  \n",
       "2      1000      1000      5000                           0  \n",
       "3      1100      1069      1000                           0  \n",
       "4      9000       689       679                           0  \n",
       "\n",
       "[5 rows x 25 columns]"
      ]
     },
     "execution_count": 2,
     "metadata": {},
     "output_type": "execute_result"
    }
   ],
   "source": [
    "#data\n",
    "\n",
    "rawData = pd.read_csv('default of credit card clients.csv', header=1)\n",
    "rawData.head()"
   ]
  },
  {
   "cell_type": "code",
   "execution_count": 3,
   "metadata": {},
   "outputs": [],
   "source": [
    "# Remover columnas\n",
    "\n",
    "del rawData['ID']"
   ]
  },
  {
   "cell_type": "code",
   "execution_count": 4,
   "metadata": {},
   "outputs": [],
   "source": [
    "# renombrar la columna\n",
    "\n",
    "rawData = rawData.rename(columns={'default payment next month': 'Default_Payment'})"
   ]
  },
  {
   "cell_type": "code",
   "execution_count": 5,
   "metadata": {},
   "outputs": [],
   "source": [
    "rawData['SEX'] = rawData['SEX'].astype('category')\n",
    "rawData['EDUCATION'] = rawData['EDUCATION'].astype('category')\n",
    "rawData['MARRIAGE'] = rawData['MARRIAGE'].astype('category')\n",
    "\n",
    "rawData['PAY_0'] = rawData['PAY_0'].astype('category')\n",
    "rawData['PAY_2'] = rawData['PAY_2'].astype('category')\n",
    "rawData['PAY_3'] = rawData['PAY_3'].astype('category')\n",
    "rawData['PAY_4'] = rawData['PAY_4'].astype('category')\n",
    "rawData['PAY_5'] = rawData['PAY_5'].astype('category')\n",
    "rawData['PAY_6'] = rawData['PAY_6'].astype('category')\n",
    "rawData['Default_Payment'] = rawData['Default_Payment'].astype('category')"
   ]
  },
  {
   "cell_type": "code",
   "execution_count": 6,
   "metadata": {},
   "outputs": [
    {
     "name": "stdout",
     "output_type": "stream",
     "text": [
      "<class 'pandas.core.frame.DataFrame'>\n",
      "RangeIndex: 30000 entries, 0 to 29999\n",
      "Data columns (total 24 columns):\n",
      "LIMIT_BAL          30000 non-null int64\n",
      "SEX                30000 non-null category\n",
      "EDUCATION          30000 non-null category\n",
      "MARRIAGE           30000 non-null category\n",
      "AGE                30000 non-null int64\n",
      "PAY_0              30000 non-null category\n",
      "PAY_2              30000 non-null category\n",
      "PAY_3              30000 non-null category\n",
      "PAY_4              30000 non-null category\n",
      "PAY_5              30000 non-null category\n",
      "PAY_6              30000 non-null category\n",
      "BILL_AMT1          30000 non-null int64\n",
      "BILL_AMT2          30000 non-null int64\n",
      "BILL_AMT3          30000 non-null int64\n",
      "BILL_AMT4          30000 non-null int64\n",
      "BILL_AMT5          30000 non-null int64\n",
      "BILL_AMT6          30000 non-null int64\n",
      "PAY_AMT1           30000 non-null int64\n",
      "PAY_AMT2           30000 non-null int64\n",
      "PAY_AMT3           30000 non-null int64\n",
      "PAY_AMT4           30000 non-null int64\n",
      "PAY_AMT5           30000 non-null int64\n",
      "PAY_AMT6           30000 non-null int64\n",
      "Default_Payment    30000 non-null category\n",
      "dtypes: category(10), int64(14)\n",
      "memory usage: 3.5 MB\n"
     ]
    }
   ],
   "source": [
    "rawData.info()"
   ]
  },
  {
   "cell_type": "code",
   "execution_count": 7,
   "metadata": {},
   "outputs": [
    {
     "data": {
      "text/html": [
       "<div>\n",
       "<style scoped>\n",
       "    .dataframe tbody tr th:only-of-type {\n",
       "        vertical-align: middle;\n",
       "    }\n",
       "\n",
       "    .dataframe tbody tr th {\n",
       "        vertical-align: top;\n",
       "    }\n",
       "\n",
       "    .dataframe thead th {\n",
       "        text-align: right;\n",
       "    }\n",
       "</style>\n",
       "<table border=\"1\" class=\"dataframe\">\n",
       "  <thead>\n",
       "    <tr style=\"text-align: right;\">\n",
       "      <th></th>\n",
       "      <th>LIMIT_BAL</th>\n",
       "      <th>AGE</th>\n",
       "      <th>BILL_AMT1</th>\n",
       "      <th>BILL_AMT2</th>\n",
       "      <th>BILL_AMT3</th>\n",
       "      <th>BILL_AMT4</th>\n",
       "      <th>BILL_AMT5</th>\n",
       "      <th>BILL_AMT6</th>\n",
       "      <th>PAY_AMT1</th>\n",
       "      <th>PAY_AMT2</th>\n",
       "      <th>PAY_AMT3</th>\n",
       "      <th>PAY_AMT4</th>\n",
       "      <th>PAY_AMT5</th>\n",
       "      <th>PAY_AMT6</th>\n",
       "    </tr>\n",
       "  </thead>\n",
       "  <tbody>\n",
       "    <tr>\n",
       "      <td>LIMIT_BAL</td>\n",
       "      <td>1.000000</td>\n",
       "      <td>0.144713</td>\n",
       "      <td>0.285430</td>\n",
       "      <td>0.278314</td>\n",
       "      <td>0.283236</td>\n",
       "      <td>0.293988</td>\n",
       "      <td>0.295562</td>\n",
       "      <td>0.290389</td>\n",
       "      <td>0.195236</td>\n",
       "      <td>0.178408</td>\n",
       "      <td>0.210167</td>\n",
       "      <td>0.203242</td>\n",
       "      <td>0.217202</td>\n",
       "      <td>0.219595</td>\n",
       "    </tr>\n",
       "    <tr>\n",
       "      <td>AGE</td>\n",
       "      <td>0.144713</td>\n",
       "      <td>1.000000</td>\n",
       "      <td>0.056239</td>\n",
       "      <td>0.054283</td>\n",
       "      <td>0.053710</td>\n",
       "      <td>0.051353</td>\n",
       "      <td>0.049345</td>\n",
       "      <td>0.047613</td>\n",
       "      <td>0.026147</td>\n",
       "      <td>0.021785</td>\n",
       "      <td>0.029247</td>\n",
       "      <td>0.021379</td>\n",
       "      <td>0.022850</td>\n",
       "      <td>0.019478</td>\n",
       "    </tr>\n",
       "    <tr>\n",
       "      <td>BILL_AMT1</td>\n",
       "      <td>0.285430</td>\n",
       "      <td>0.056239</td>\n",
       "      <td>1.000000</td>\n",
       "      <td>0.951484</td>\n",
       "      <td>0.892279</td>\n",
       "      <td>0.860272</td>\n",
       "      <td>0.829779</td>\n",
       "      <td>0.802650</td>\n",
       "      <td>0.140277</td>\n",
       "      <td>0.099355</td>\n",
       "      <td>0.156887</td>\n",
       "      <td>0.158303</td>\n",
       "      <td>0.167026</td>\n",
       "      <td>0.179341</td>\n",
       "    </tr>\n",
       "    <tr>\n",
       "      <td>BILL_AMT2</td>\n",
       "      <td>0.278314</td>\n",
       "      <td>0.054283</td>\n",
       "      <td>0.951484</td>\n",
       "      <td>1.000000</td>\n",
       "      <td>0.928326</td>\n",
       "      <td>0.892482</td>\n",
       "      <td>0.859778</td>\n",
       "      <td>0.831594</td>\n",
       "      <td>0.280365</td>\n",
       "      <td>0.100851</td>\n",
       "      <td>0.150718</td>\n",
       "      <td>0.147398</td>\n",
       "      <td>0.157957</td>\n",
       "      <td>0.174256</td>\n",
       "    </tr>\n",
       "    <tr>\n",
       "      <td>BILL_AMT3</td>\n",
       "      <td>0.283236</td>\n",
       "      <td>0.053710</td>\n",
       "      <td>0.892279</td>\n",
       "      <td>0.928326</td>\n",
       "      <td>1.000000</td>\n",
       "      <td>0.923969</td>\n",
       "      <td>0.883910</td>\n",
       "      <td>0.853320</td>\n",
       "      <td>0.244335</td>\n",
       "      <td>0.316936</td>\n",
       "      <td>0.130011</td>\n",
       "      <td>0.143405</td>\n",
       "      <td>0.179712</td>\n",
       "      <td>0.182326</td>\n",
       "    </tr>\n",
       "    <tr>\n",
       "      <td>BILL_AMT4</td>\n",
       "      <td>0.293988</td>\n",
       "      <td>0.051353</td>\n",
       "      <td>0.860272</td>\n",
       "      <td>0.892482</td>\n",
       "      <td>0.923969</td>\n",
       "      <td>1.000000</td>\n",
       "      <td>0.940134</td>\n",
       "      <td>0.900941</td>\n",
       "      <td>0.233012</td>\n",
       "      <td>0.207564</td>\n",
       "      <td>0.300023</td>\n",
       "      <td>0.130191</td>\n",
       "      <td>0.160433</td>\n",
       "      <td>0.177637</td>\n",
       "    </tr>\n",
       "    <tr>\n",
       "      <td>BILL_AMT5</td>\n",
       "      <td>0.295562</td>\n",
       "      <td>0.049345</td>\n",
       "      <td>0.829779</td>\n",
       "      <td>0.859778</td>\n",
       "      <td>0.883910</td>\n",
       "      <td>0.940134</td>\n",
       "      <td>1.000000</td>\n",
       "      <td>0.946197</td>\n",
       "      <td>0.217031</td>\n",
       "      <td>0.181246</td>\n",
       "      <td>0.252305</td>\n",
       "      <td>0.293118</td>\n",
       "      <td>0.141574</td>\n",
       "      <td>0.164184</td>\n",
       "    </tr>\n",
       "    <tr>\n",
       "      <td>BILL_AMT6</td>\n",
       "      <td>0.290389</td>\n",
       "      <td>0.047613</td>\n",
       "      <td>0.802650</td>\n",
       "      <td>0.831594</td>\n",
       "      <td>0.853320</td>\n",
       "      <td>0.900941</td>\n",
       "      <td>0.946197</td>\n",
       "      <td>1.000000</td>\n",
       "      <td>0.199965</td>\n",
       "      <td>0.172663</td>\n",
       "      <td>0.233770</td>\n",
       "      <td>0.250237</td>\n",
       "      <td>0.307729</td>\n",
       "      <td>0.115494</td>\n",
       "    </tr>\n",
       "    <tr>\n",
       "      <td>PAY_AMT1</td>\n",
       "      <td>0.195236</td>\n",
       "      <td>0.026147</td>\n",
       "      <td>0.140277</td>\n",
       "      <td>0.280365</td>\n",
       "      <td>0.244335</td>\n",
       "      <td>0.233012</td>\n",
       "      <td>0.217031</td>\n",
       "      <td>0.199965</td>\n",
       "      <td>1.000000</td>\n",
       "      <td>0.285576</td>\n",
       "      <td>0.252191</td>\n",
       "      <td>0.199558</td>\n",
       "      <td>0.148459</td>\n",
       "      <td>0.185735</td>\n",
       "    </tr>\n",
       "    <tr>\n",
       "      <td>PAY_AMT2</td>\n",
       "      <td>0.178408</td>\n",
       "      <td>0.021785</td>\n",
       "      <td>0.099355</td>\n",
       "      <td>0.100851</td>\n",
       "      <td>0.316936</td>\n",
       "      <td>0.207564</td>\n",
       "      <td>0.181246</td>\n",
       "      <td>0.172663</td>\n",
       "      <td>0.285576</td>\n",
       "      <td>1.000000</td>\n",
       "      <td>0.244770</td>\n",
       "      <td>0.180107</td>\n",
       "      <td>0.180908</td>\n",
       "      <td>0.157634</td>\n",
       "    </tr>\n",
       "    <tr>\n",
       "      <td>PAY_AMT3</td>\n",
       "      <td>0.210167</td>\n",
       "      <td>0.029247</td>\n",
       "      <td>0.156887</td>\n",
       "      <td>0.150718</td>\n",
       "      <td>0.130011</td>\n",
       "      <td>0.300023</td>\n",
       "      <td>0.252305</td>\n",
       "      <td>0.233770</td>\n",
       "      <td>0.252191</td>\n",
       "      <td>0.244770</td>\n",
       "      <td>1.000000</td>\n",
       "      <td>0.216325</td>\n",
       "      <td>0.159214</td>\n",
       "      <td>0.162740</td>\n",
       "    </tr>\n",
       "    <tr>\n",
       "      <td>PAY_AMT4</td>\n",
       "      <td>0.203242</td>\n",
       "      <td>0.021379</td>\n",
       "      <td>0.158303</td>\n",
       "      <td>0.147398</td>\n",
       "      <td>0.143405</td>\n",
       "      <td>0.130191</td>\n",
       "      <td>0.293118</td>\n",
       "      <td>0.250237</td>\n",
       "      <td>0.199558</td>\n",
       "      <td>0.180107</td>\n",
       "      <td>0.216325</td>\n",
       "      <td>1.000000</td>\n",
       "      <td>0.151830</td>\n",
       "      <td>0.157834</td>\n",
       "    </tr>\n",
       "    <tr>\n",
       "      <td>PAY_AMT5</td>\n",
       "      <td>0.217202</td>\n",
       "      <td>0.022850</td>\n",
       "      <td>0.167026</td>\n",
       "      <td>0.157957</td>\n",
       "      <td>0.179712</td>\n",
       "      <td>0.160433</td>\n",
       "      <td>0.141574</td>\n",
       "      <td>0.307729</td>\n",
       "      <td>0.148459</td>\n",
       "      <td>0.180908</td>\n",
       "      <td>0.159214</td>\n",
       "      <td>0.151830</td>\n",
       "      <td>1.000000</td>\n",
       "      <td>0.154896</td>\n",
       "    </tr>\n",
       "    <tr>\n",
       "      <td>PAY_AMT6</td>\n",
       "      <td>0.219595</td>\n",
       "      <td>0.019478</td>\n",
       "      <td>0.179341</td>\n",
       "      <td>0.174256</td>\n",
       "      <td>0.182326</td>\n",
       "      <td>0.177637</td>\n",
       "      <td>0.164184</td>\n",
       "      <td>0.115494</td>\n",
       "      <td>0.185735</td>\n",
       "      <td>0.157634</td>\n",
       "      <td>0.162740</td>\n",
       "      <td>0.157834</td>\n",
       "      <td>0.154896</td>\n",
       "      <td>1.000000</td>\n",
       "    </tr>\n",
       "  </tbody>\n",
       "</table>\n",
       "</div>"
      ],
      "text/plain": [
       "           LIMIT_BAL       AGE  BILL_AMT1  BILL_AMT2  BILL_AMT3  BILL_AMT4  \\\n",
       "LIMIT_BAL   1.000000  0.144713   0.285430   0.278314   0.283236   0.293988   \n",
       "AGE         0.144713  1.000000   0.056239   0.054283   0.053710   0.051353   \n",
       "BILL_AMT1   0.285430  0.056239   1.000000   0.951484   0.892279   0.860272   \n",
       "BILL_AMT2   0.278314  0.054283   0.951484   1.000000   0.928326   0.892482   \n",
       "BILL_AMT3   0.283236  0.053710   0.892279   0.928326   1.000000   0.923969   \n",
       "BILL_AMT4   0.293988  0.051353   0.860272   0.892482   0.923969   1.000000   \n",
       "BILL_AMT5   0.295562  0.049345   0.829779   0.859778   0.883910   0.940134   \n",
       "BILL_AMT6   0.290389  0.047613   0.802650   0.831594   0.853320   0.900941   \n",
       "PAY_AMT1    0.195236  0.026147   0.140277   0.280365   0.244335   0.233012   \n",
       "PAY_AMT2    0.178408  0.021785   0.099355   0.100851   0.316936   0.207564   \n",
       "PAY_AMT3    0.210167  0.029247   0.156887   0.150718   0.130011   0.300023   \n",
       "PAY_AMT4    0.203242  0.021379   0.158303   0.147398   0.143405   0.130191   \n",
       "PAY_AMT5    0.217202  0.022850   0.167026   0.157957   0.179712   0.160433   \n",
       "PAY_AMT6    0.219595  0.019478   0.179341   0.174256   0.182326   0.177637   \n",
       "\n",
       "           BILL_AMT5  BILL_AMT6  PAY_AMT1  PAY_AMT2  PAY_AMT3  PAY_AMT4  \\\n",
       "LIMIT_BAL   0.295562   0.290389  0.195236  0.178408  0.210167  0.203242   \n",
       "AGE         0.049345   0.047613  0.026147  0.021785  0.029247  0.021379   \n",
       "BILL_AMT1   0.829779   0.802650  0.140277  0.099355  0.156887  0.158303   \n",
       "BILL_AMT2   0.859778   0.831594  0.280365  0.100851  0.150718  0.147398   \n",
       "BILL_AMT3   0.883910   0.853320  0.244335  0.316936  0.130011  0.143405   \n",
       "BILL_AMT4   0.940134   0.900941  0.233012  0.207564  0.300023  0.130191   \n",
       "BILL_AMT5   1.000000   0.946197  0.217031  0.181246  0.252305  0.293118   \n",
       "BILL_AMT6   0.946197   1.000000  0.199965  0.172663  0.233770  0.250237   \n",
       "PAY_AMT1    0.217031   0.199965  1.000000  0.285576  0.252191  0.199558   \n",
       "PAY_AMT2    0.181246   0.172663  0.285576  1.000000  0.244770  0.180107   \n",
       "PAY_AMT3    0.252305   0.233770  0.252191  0.244770  1.000000  0.216325   \n",
       "PAY_AMT4    0.293118   0.250237  0.199558  0.180107  0.216325  1.000000   \n",
       "PAY_AMT5    0.141574   0.307729  0.148459  0.180908  0.159214  0.151830   \n",
       "PAY_AMT6    0.164184   0.115494  0.185735  0.157634  0.162740  0.157834   \n",
       "\n",
       "           PAY_AMT5  PAY_AMT6  \n",
       "LIMIT_BAL  0.217202  0.219595  \n",
       "AGE        0.022850  0.019478  \n",
       "BILL_AMT1  0.167026  0.179341  \n",
       "BILL_AMT2  0.157957  0.174256  \n",
       "BILL_AMT3  0.179712  0.182326  \n",
       "BILL_AMT4  0.160433  0.177637  \n",
       "BILL_AMT5  0.141574  0.164184  \n",
       "BILL_AMT6  0.307729  0.115494  \n",
       "PAY_AMT1   0.148459  0.185735  \n",
       "PAY_AMT2   0.180908  0.157634  \n",
       "PAY_AMT3   0.159214  0.162740  \n",
       "PAY_AMT4   0.151830  0.157834  \n",
       "PAY_AMT5   1.000000  0.154896  \n",
       "PAY_AMT6   0.154896  1.000000  "
      ]
     },
     "execution_count": 7,
     "metadata": {},
     "output_type": "execute_result"
    }
   ],
   "source": [
    "#correlation matrix\n",
    "corrMatrix = rawData.corr()\n",
    "corrMatrix"
   ]
  },
  {
   "cell_type": "code",
   "execution_count": 8,
   "metadata": {},
   "outputs": [
    {
     "data": {
      "text/plain": [
       "<matplotlib.axes._subplots.AxesSubplot at 0x1a1fb03f50>"
      ]
     },
     "execution_count": 8,
     "metadata": {},
     "output_type": "execute_result"
    },
    {
     "data": {
      "image/png": "[encoded data removed]",
      "text/plain": [
       "<Figure size 576x504 with 2 Axes>"
      ]
     },
     "metadata": {
      "needs_background": "light"
     },
     "output_type": "display_data"
    }
   ],
   "source": [
    "corr = rawData.corr()\n",
    "f, ax = plt.subplots(figsize = (8, 7))\n",
    "sns.heatmap(corr, \n",
    "            cbar = True,  \n",
    "            square = True, \n",
    "            annot = False, \n",
    "            fmt = '.1f', \n",
    "            xticklabels = True, \n",
    "            yticklabels = True, \n",
    "            cmap = \"coolwarm\", \n",
    "            linewidths = .5, \n",
    "            ax = ax)"
   ]
  },
  {
   "cell_type": "code",
   "execution_count": 9,
   "metadata": {},
   "outputs": [],
   "source": [
    "depVar = rawData['Default_Payment']"
   ]
  },
  {
   "cell_type": "code",
   "execution_count": 10,
   "metadata": {},
   "outputs": [],
   "source": [
    "features = rawData.iloc[:,0:17]"
   ]
  },
  {
   "cell_type": "code",
   "execution_count": 11,
   "metadata": {},
   "outputs": [
    {
     "data": {
      "text/html": [
       "<div>\n",
       "<style scoped>\n",
       "    .dataframe tbody tr th:only-of-type {\n",
       "        vertical-align: middle;\n",
       "    }\n",
       "\n",
       "    .dataframe tbody tr th {\n",
       "        vertical-align: top;\n",
       "    }\n",
       "\n",
       "    .dataframe thead th {\n",
       "        text-align: right;\n",
       "    }\n",
       "</style>\n",
       "<table border=\"1\" class=\"dataframe\">\n",
       "  <thead>\n",
       "    <tr style=\"text-align: right;\">\n",
       "      <th></th>\n",
       "      <th>LIMIT_BAL</th>\n",
       "      <th>SEX</th>\n",
       "      <th>EDUCATION</th>\n",
       "      <th>MARRIAGE</th>\n",
       "      <th>AGE</th>\n",
       "      <th>PAY_0</th>\n",
       "      <th>PAY_2</th>\n",
       "      <th>PAY_3</th>\n",
       "      <th>PAY_4</th>\n",
       "      <th>PAY_5</th>\n",
       "      <th>PAY_6</th>\n",
       "      <th>BILL_AMT1</th>\n",
       "      <th>BILL_AMT2</th>\n",
       "      <th>BILL_AMT3</th>\n",
       "      <th>BILL_AMT4</th>\n",
       "      <th>BILL_AMT5</th>\n",
       "      <th>BILL_AMT6</th>\n",
       "    </tr>\n",
       "  </thead>\n",
       "  <tbody>\n",
       "    <tr>\n",
       "      <td>0</td>\n",
       "      <td>20000</td>\n",
       "      <td>2</td>\n",
       "      <td>2</td>\n",
       "      <td>1</td>\n",
       "      <td>24</td>\n",
       "      <td>2</td>\n",
       "      <td>2</td>\n",
       "      <td>-1</td>\n",
       "      <td>-1</td>\n",
       "      <td>-2</td>\n",
       "      <td>-2</td>\n",
       "      <td>3913</td>\n",
       "      <td>3102</td>\n",
       "      <td>689</td>\n",
       "      <td>0</td>\n",
       "      <td>0</td>\n",
       "      <td>0</td>\n",
       "    </tr>\n",
       "    <tr>\n",
       "      <td>1</td>\n",
       "      <td>120000</td>\n",
       "      <td>2</td>\n",
       "      <td>2</td>\n",
       "      <td>2</td>\n",
       "      <td>26</td>\n",
       "      <td>-1</td>\n",
       "      <td>2</td>\n",
       "      <td>0</td>\n",
       "      <td>0</td>\n",
       "      <td>0</td>\n",
       "      <td>2</td>\n",
       "      <td>2682</td>\n",
       "      <td>1725</td>\n",
       "      <td>2682</td>\n",
       "      <td>3272</td>\n",
       "      <td>3455</td>\n",
       "      <td>3261</td>\n",
       "    </tr>\n",
       "    <tr>\n",
       "      <td>2</td>\n",
       "      <td>90000</td>\n",
       "      <td>2</td>\n",
       "      <td>2</td>\n",
       "      <td>2</td>\n",
       "      <td>34</td>\n",
       "      <td>0</td>\n",
       "      <td>0</td>\n",
       "      <td>0</td>\n",
       "      <td>0</td>\n",
       "      <td>0</td>\n",
       "      <td>0</td>\n",
       "      <td>29239</td>\n",
       "      <td>14027</td>\n",
       "      <td>13559</td>\n",
       "      <td>14331</td>\n",
       "      <td>14948</td>\n",
       "      <td>15549</td>\n",
       "    </tr>\n",
       "    <tr>\n",
       "      <td>3</td>\n",
       "      <td>50000</td>\n",
       "      <td>2</td>\n",
       "      <td>2</td>\n",
       "      <td>1</td>\n",
       "      <td>37</td>\n",
       "      <td>0</td>\n",
       "      <td>0</td>\n",
       "      <td>0</td>\n",
       "      <td>0</td>\n",
       "      <td>0</td>\n",
       "      <td>0</td>\n",
       "      <td>46990</td>\n",
       "      <td>48233</td>\n",
       "      <td>49291</td>\n",
       "      <td>28314</td>\n",
       "      <td>28959</td>\n",
       "      <td>29547</td>\n",
       "    </tr>\n",
       "    <tr>\n",
       "      <td>4</td>\n",
       "      <td>50000</td>\n",
       "      <td>1</td>\n",
       "      <td>2</td>\n",
       "      <td>1</td>\n",
       "      <td>57</td>\n",
       "      <td>-1</td>\n",
       "      <td>0</td>\n",
       "      <td>-1</td>\n",
       "      <td>0</td>\n",
       "      <td>0</td>\n",
       "      <td>0</td>\n",
       "      <td>8617</td>\n",
       "      <td>5670</td>\n",
       "      <td>35835</td>\n",
       "      <td>20940</td>\n",
       "      <td>19146</td>\n",
       "      <td>19131</td>\n",
       "    </tr>\n",
       "  </tbody>\n",
       "</table>\n",
       "</div>"
      ],
      "text/plain": [
       "   LIMIT_BAL SEX EDUCATION MARRIAGE  AGE PAY_0 PAY_2 PAY_3 PAY_4 PAY_5 PAY_6  \\\n",
       "0      20000   2         2        1   24     2     2    -1    -1    -2    -2   \n",
       "1     120000   2         2        2   26    -1     2     0     0     0     2   \n",
       "2      90000   2         2        2   34     0     0     0     0     0     0   \n",
       "3      50000   2         2        1   37     0     0     0     0     0     0   \n",
       "4      50000   1         2        1   57    -1     0    -1     0     0     0   \n",
       "\n",
       "   BILL_AMT1  BILL_AMT2  BILL_AMT3  BILL_AMT4  BILL_AMT5  BILL_AMT6  \n",
       "0       3913       3102        689          0          0          0  \n",
       "1       2682       1725       2682       3272       3455       3261  \n",
       "2      29239      14027      13559      14331      14948      15549  \n",
       "3      46990      48233      49291      28314      28959      29547  \n",
       "4       8617       5670      35835      20940      19146      19131  "
      ]
     },
     "execution_count": 11,
     "metadata": {},
     "output_type": "execute_result"
    }
   ],
   "source": [
    "features.head()"
   ]
  },
  {
   "cell_type": "code",
   "execution_count": 12,
   "metadata": {},
   "outputs": [],
   "source": [
    "test_size = 0.30\n",
    "seed = 1106\n",
    "x_train, x_test = train_test_split(features, test_size= test_size, random_state=seed, shuffle=True)"
   ]
  },
  {
   "cell_type": "code",
   "execution_count": 13,
   "metadata": {},
   "outputs": [
    {
     "data": {
      "text/plain": [
       "((21000, 17), (9000, 17))"
      ]
     },
     "execution_count": 13,
     "metadata": {},
     "output_type": "execute_result"
    }
   ],
   "source": [
    "x_train.shape, x_test.shape"
   ]
  },
  {
   "cell_type": "code",
   "execution_count": 14,
   "metadata": {},
   "outputs": [],
   "source": [
    "y_train, y_test = train_test_split(depVar, test_size= test_size, random_state=seed, shuffle=True)"
   ]
  },
  {
   "cell_type": "code",
   "execution_count": 15,
   "metadata": {},
   "outputs": [
    {
     "data": {
      "text/plain": [
       "((21000,), (9000,))"
      ]
     },
     "execution_count": 15,
     "metadata": {},
     "output_type": "execute_result"
    }
   ],
   "source": [
    "y_train.shape, y_test.shape"
   ]
  },
  {
   "cell_type": "code",
   "execution_count": 32,
   "metadata": {},
   "outputs": [],
   "source": [
    "modelSVC = SVC(C=1.0, \n",
    "               cache_size=400, \n",
    "               degree=5, \n",
    "               gamma='auto_deprecated',\n",
    "               verbose=True)\n",
    "\n",
    "modelRF = RandomForestClassifier(bootstrap=True, \n",
    "                                 max_depth=10, \n",
    "                                 max_features='auto', \n",
    "                                 n_estimators=10, \n",
    "                                 n_jobs=10)\n",
    "\n",
    "modelGBM = GradientBoostingClassifier(max_depth=4, \n",
    "                                      n_estimators=100,\n",
    "                                      verbose=1)"
   ]
  },
  {
   "cell_type": "code",
   "execution_count": 33,
   "metadata": {},
   "outputs": [
    {
     "data": {
      "text/plain": [
       "RandomForestClassifier(bootstrap=True, class_weight=None, criterion='gini',\n",
       "                       max_depth=10, max_features='auto', max_leaf_nodes=None,\n",
       "                       min_impurity_decrease=0.0, min_impurity_split=None,\n",
       "                       min_samples_leaf=1, min_samples_split=2,\n",
       "                       min_weight_fraction_leaf=0.0, n_estimators=10, n_jobs=10,\n",
       "                       oob_score=False, random_state=None, verbose=0,\n",
       "                       warm_start=False)"
      ]
     },
     "execution_count": 33,
     "metadata": {},
     "output_type": "execute_result"
    }
   ],
   "source": [
    "#Random Forest\n",
    "\n",
    "modelRF.fit(x_train,y_train)"
   ]
  },
  {
   "cell_type": "code",
   "execution_count": 34,
   "metadata": {},
   "outputs": [
    {
     "name": "stderr",
     "output_type": "stream",
     "text": [
      "/Users/roberto/opt/anaconda3/lib/python3.7/site-packages/sklearn/model_selection/_split.py:1978: FutureWarning: The default value of cv will change from 3 to 5 in version 0.22. Specify it explicitly to silence this warning.\n",
      "  warnings.warn(CV_WARNING, FutureWarning)\n"
     ]
    },
    {
     "name": "stdout",
     "output_type": "stream",
     "text": [
      "[0.81559777 0.81957143 0.81197314]\n",
      "0.8533333333333334\n"
     ]
    }
   ],
   "source": [
    "#Metricas Random Forest\n",
    "\n",
    "print(cross_val_score(modelRF, x_train, y_train)) \n",
    "print(modelRF.score(x_train, y_train))"
   ]
  },
  {
   "cell_type": "code",
   "execution_count": 35,
   "metadata": {},
   "outputs": [
    {
     "name": "stderr",
     "output_type": "stream",
     "text": [
      "/Users/roberto/opt/anaconda3/lib/python3.7/site-packages/sklearn/svm/base.py:193: FutureWarning: The default value of gamma will change from 'auto' to 'scale' in version 0.22 to account better for unscaled features. Set gamma explicitly to 'auto' or 'scale' to avoid this warning.\n",
      "  \"avoid this warning.\", FutureWarning)\n"
     ]
    },
    {
     "name": "stdout",
     "output_type": "stream",
     "text": [
      "[LibSVM]"
     ]
    },
    {
     "data": {
      "text/plain": [
       "SVC(C=1.0, cache_size=400, class_weight=None, coef0=0.0,\n",
       "    decision_function_shape='ovr', degree=5, gamma='auto_deprecated',\n",
       "    kernel='rbf', max_iter=-1, probability=False, random_state=None,\n",
       "    shrinking=True, tol=0.001, verbose=True)"
      ]
     },
     "execution_count": 35,
     "metadata": {},
     "output_type": "execute_result"
    }
   ],
   "source": [
    "#Support Vector Classifier\n",
    "\n",
    "modelSVC.fit(x_train,y_train)"
   ]
  },
  {
   "cell_type": "code",
   "execution_count": 36,
   "metadata": {},
   "outputs": [
    {
     "name": "stderr",
     "output_type": "stream",
     "text": [
      "/Users/roberto/opt/anaconda3/lib/python3.7/site-packages/sklearn/model_selection/_split.py:1978: FutureWarning: The default value of cv will change from 3 to 5 in version 0.22. Specify it explicitly to silence this warning.\n",
      "  warnings.warn(CV_WARNING, FutureWarning)\n",
      "/Users/roberto/opt/anaconda3/lib/python3.7/site-packages/sklearn/svm/base.py:193: FutureWarning: The default value of gamma will change from 'auto' to 'scale' in version 0.22 to account better for unscaled features. Set gamma explicitly to 'auto' or 'scale' to avoid this warning.\n",
      "  \"avoid this warning.\", FutureWarning)\n"
     ]
    },
    {
     "name": "stdout",
     "output_type": "stream",
     "text": [
      "[LibSVM]"
     ]
    },
    {
     "name": "stderr",
     "output_type": "stream",
     "text": [
      "/Users/roberto/opt/anaconda3/lib/python3.7/site-packages/sklearn/svm/base.py:193: FutureWarning: The default value of gamma will change from 'auto' to 'scale' in version 0.22 to account better for unscaled features. Set gamma explicitly to 'auto' or 'scale' to avoid this warning.\n",
      "  \"avoid this warning.\", FutureWarning)\n"
     ]
    },
    {
     "name": "stdout",
     "output_type": "stream",
     "text": [
      "[LibSVM]"
     ]
    },
    {
     "name": "stderr",
     "output_type": "stream",
     "text": [
      "/Users/roberto/opt/anaconda3/lib/python3.7/site-packages/sklearn/svm/base.py:193: FutureWarning: The default value of gamma will change from 'auto' to 'scale' in version 0.22 to account better for unscaled features. Set gamma explicitly to 'auto' or 'scale' to avoid this warning.\n",
      "  \"avoid this warning.\", FutureWarning)\n"
     ]
    },
    {
     "name": "stdout",
     "output_type": "stream",
     "text": [
      "[LibSVM][0.78160263 0.78057143 0.78111159]\n",
      "0.9938571428571429\n"
     ]
    }
   ],
   "source": [
    "#Metricas Support Vector Cassifier\n",
    "\n",
    "print(cross_val_score(modelSVC, x_train, y_train)) \n",
    "print(modelSVC.score(x_train, y_train))"
   ]
  },
  {
   "cell_type": "code",
   "execution_count": 37,
   "metadata": {},
   "outputs": [
    {
     "name": "stdout",
     "output_type": "stream",
     "text": [
      "      Iter       Train Loss   Remaining Time \n",
      "         1           1.0117            3.49s\n",
      "         2           0.9830            3.40s\n",
      "         3           0.9608            3.35s\n",
      "         4           0.9433            3.30s\n",
      "         5           0.9290            3.24s\n",
      "         6           0.9171            3.21s\n",
      "         7           0.9071            3.27s\n",
      "         8           0.8990            3.23s\n",
      "         9           0.8918            3.19s\n",
      "        10           0.8852            3.16s\n",
      "        20           0.8523            2.95s\n",
      "        30           0.8381            2.69s\n",
      "        40           0.8295            2.46s\n",
      "        50           0.8236            2.10s\n",
      "        60           0.8184            1.63s\n",
      "        70           0.8136            1.18s\n",
      "        80           0.8087            0.78s\n",
      "        90           0.8045            0.38s\n",
      "       100           0.8014            0.00s\n"
     ]
    },
    {
     "data": {
      "text/plain": [
       "GradientBoostingClassifier(criterion='friedman_mse', init=None,\n",
       "                           learning_rate=0.1, loss='deviance', max_depth=4,\n",
       "                           max_features=None, max_leaf_nodes=None,\n",
       "                           min_impurity_decrease=0.0, min_impurity_split=None,\n",
       "                           min_samples_leaf=1, min_samples_split=2,\n",
       "                           min_weight_fraction_leaf=0.0, n_estimators=100,\n",
       "                           n_iter_no_change=None, presort='auto',\n",
       "                           random_state=None, subsample=1.0, tol=0.0001,\n",
       "                           validation_fraction=0.1, verbose=1,\n",
       "                           warm_start=False)"
      ]
     },
     "execution_count": 37,
     "metadata": {},
     "output_type": "execute_result"
    }
   ],
   "source": [
    "#Gradient Boosting Model\n",
    "\n",
    "modelGBM.fit(x_train,y_train)"
   ]
  },
  {
   "cell_type": "code",
   "execution_count": 38,
   "metadata": {},
   "outputs": [
    {
     "name": "stderr",
     "output_type": "stream",
     "text": [
      "/Users/roberto/opt/anaconda3/lib/python3.7/site-packages/sklearn/model_selection/_split.py:1978: FutureWarning: The default value of cv will change from 3 to 5 in version 0.22. Specify it explicitly to silence this warning.\n",
      "  warnings.warn(CV_WARNING, FutureWarning)\n"
     ]
    },
    {
     "name": "stdout",
     "output_type": "stream",
     "text": [
      "      Iter       Train Loss   Remaining Time \n",
      "         1           1.0113            2.32s\n",
      "         2           0.9825            2.45s\n",
      "         3           0.9602            2.30s\n",
      "         4           0.9425            2.22s\n",
      "         5           0.9277            2.18s\n",
      "         6           0.9155            2.13s\n",
      "         7           0.9050            2.17s\n",
      "         8           0.8965            2.14s\n",
      "         9           0.8893            2.12s\n",
      "        10           0.8823            2.14s\n",
      "        20           0.8462            1.90s\n",
      "        30           0.8298            1.63s\n",
      "        40           0.8192            1.37s\n",
      "        50           0.8096            1.14s\n",
      "        60           0.8026            0.89s\n",
      "        70           0.7965            0.66s\n",
      "        80           0.7898            0.43s\n",
      "        90           0.7839            0.21s\n",
      "       100           0.7766            0.00s\n",
      "      Iter       Train Loss   Remaining Time \n",
      "         1           1.0118            2.22s\n",
      "         2           0.9833            2.12s\n",
      "         3           0.9613            2.09s\n",
      "         4           0.9436            2.04s\n",
      "         5           0.9295            2.02s\n",
      "         6           0.9178            2.03s\n",
      "         7           0.9080            2.00s\n",
      "         8           0.8994            2.01s\n",
      "         9           0.8922            2.00s\n",
      "        10           0.8861            2.05s\n",
      "        20           0.8510            1.97s\n",
      "        30           0.8345            1.92s\n",
      "        40           0.8232            1.93s\n",
      "        50           0.8139            1.60s\n",
      "        60           0.8053            1.28s\n",
      "        70           0.7984            0.94s\n",
      "        80           0.7922            0.60s\n",
      "        90           0.7854            0.29s\n",
      "       100           0.7805            0.00s\n",
      "      Iter       Train Loss   Remaining Time \n",
      "         1           1.0101            2.20s\n",
      "         2           0.9803            2.16s\n",
      "         3           0.9572            2.11s\n",
      "         4           0.9391            2.05s\n",
      "         5           0.9242            2.03s\n",
      "         6           0.9123            2.00s\n",
      "         7           0.9021            2.04s\n",
      "         8           0.8935            2.02s\n",
      "         9           0.8853            2.01s\n",
      "        10           0.8785            2.00s\n",
      "        20           0.8452            1.80s\n",
      "        30           0.8282            1.57s\n",
      "        40           0.8168            1.35s\n",
      "        50           0.8102            1.13s\n",
      "        60           0.8039            0.98s\n",
      "        70           0.7962            0.76s\n",
      "        80           0.7899            0.51s\n",
      "        90           0.7841            0.25s\n",
      "       100           0.7794            0.00s\n",
      "[0.82045422 0.82328571 0.81625947]\n",
      "0.832952380952381\n"
     ]
    }
   ],
   "source": [
    "#Metricas Linear Classifier\n",
    "print(cross_val_score(modelGBM, x_train, y_train)) \n",
    "print(modelGBM.score(x_train, y_train))"
   ]
  },
  {
   "cell_type": "code",
   "execution_count": 39,
   "metadata": {},
   "outputs": [],
   "source": [
    "#Prediciones con SVC\n",
    "predictions = modelSVC.predict(x_test)"
   ]
  },
  {
   "cell_type": "code",
   "execution_count": 40,
   "metadata": {},
   "outputs": [],
   "source": [
    "accurancy = accuracy_score(y_test, predictions)\n",
    "precision = precision_score(y_test, predictions)\n",
    "score = recall_score(y_test, predictions)"
   ]
  },
  {
   "cell_type": "code",
   "execution_count": 41,
   "metadata": {},
   "outputs": [
    {
     "name": "stdout",
     "output_type": "stream",
     "text": [
      "accurancy: 0.775\n",
      "Precision: 0.682\n",
      "score: 0.015\n"
     ]
    }
   ],
   "source": [
    "print('accurancy: %.3f' % accurancy)\n",
    "print('Precision: %.3f' % precision)\n",
    "print('score: %.3f' % score)\n"
   ]
  },
  {
   "cell_type": "code",
   "execution_count": 45,
   "metadata": {},
   "outputs": [],
   "source": [
    "#Prediciones con RF\n",
    "predictions = modelRF.predict(x_test)"
   ]
  },
  {
   "cell_type": "code",
   "execution_count": 46,
   "metadata": {},
   "outputs": [],
   "source": [
    "accurancy = accuracy_score(y_test, predictions)\n",
    "precision = precision_score(y_test, predictions)\n",
    "score = recall_score(y_test, predictions)"
   ]
  },
  {
   "cell_type": "code",
   "execution_count": 47,
   "metadata": {},
   "outputs": [
    {
     "name": "stdout",
     "output_type": "stream",
     "text": [
      "accurancy: 0.812\n",
      "Precision: 0.668\n",
      "score: 0.344\n"
     ]
    }
   ],
   "source": [
    "print('accurancy: %.3f' % accurancy)\n",
    "print('Precision: %.3f' % precision)\n",
    "print('score: %.3f' % score)"
   ]
  },
  {
   "cell_type": "code",
   "execution_count": null,
   "metadata": {},
   "outputs": [],
   "source": []
  }
 ],
 "metadata": {
  "kernelspec": {
   "display_name": "Python 3",
   "language": "python",
   "name": "python3"
  },
  "language_info": {
   "codemirror_mode": {
    "name": "ipython",
    "version": 3
   },
   "file_extension": ".py",
   "mimetype": "text/x-python",
   "name": "python",
   "nbconvert_exporter": "python",
   "pygments_lexer": "ipython3",
   "version": "3.7.4"
  }
 },
 "nbformat": 4,
 "nbformat_minor": 2
}
