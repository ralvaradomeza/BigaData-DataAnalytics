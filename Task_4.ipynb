{
 "cells": [
  {
   "cell_type": "code",
   "execution_count": 1,
   "metadata": {},
   "outputs": [],
   "source": [
    "#imports\n",
    "#numpy, pandas, scipy, math, matplotlib\n",
    "\n",
    "import numpy as np\n",
    "import pandas as pd\n",
    "import scipy\n",
    "from math import sqrt\n",
    "import matplotlib.pyplot as plt\n",
    "from matplotlib import pyplot\n",
    "import seaborn as sns\n",
    "from datetime import datetime\n",
    "import dateutil.parser\n",
    "\n",
    "#estimators\n",
    "\n",
    "from sklearn.ensemble import RandomForestRegressor\n",
    "from sklearn.linear_model import LinearRegression\n",
    "from sklearn.svm import SVR\n",
    "from sklearn import linear_model\n",
    "from sklearn.ensemble import RandomForestClassifier\n",
    "from sklearn.svm import SVC\n",
    "from sklearn.ensemble import GradientBoostingClassifier\n",
    "\n",
    "#model metrics\n",
    "\n",
    "from sklearn.metrics import mean_squared_error\n",
    "from sklearn.metrics import r2_score\n",
    "from sklearn.model_selection import cross_val_score\n",
    "from sklearn.metrics import accuracy_score\n",
    "from sklearn.metrics import precision_score\n",
    "from sklearn.metrics import recall_score\n",
    "from sklearn.model_selection import cross_val_score\n",
    "\n",
    "#cross validation\n",
    "\n",
    "from sklearn.model_selection import train_test_split"
   ]
  },
  {
   "cell_type": "code",
   "execution_count": 2,
   "metadata": {},
   "outputs": [],
   "source": [
    "#data\n",
    "\n",
    "accidentData = pd.read_csv('US_Accidents_Dec19.csv')"
   ]
  },
  {
   "cell_type": "code",
   "execution_count": 45,
   "metadata": {},
   "outputs": [],
   "source": [
    "data = accidentData.sample(frac = 0.2)"
   ]
  },
  {
   "cell_type": "code",
   "execution_count": 4,
   "metadata": {},
   "outputs": [],
   "source": [
    "#HI = data.sample(n = 10000)"
   ]
  },
  {
   "cell_type": "code",
   "execution_count": 5,
   "metadata": {},
   "outputs": [],
   "source": [
    "#HI = HI.fillna(0)"
   ]
  },
  {
   "cell_type": "code",
   "execution_count": 6,
   "metadata": {},
   "outputs": [],
   "source": [
    "#HI['Start_Lat'] = HI['Start_Lat'].round(decimals = 2)"
   ]
  },
  {
   "cell_type": "code",
   "execution_count": 7,
   "metadata": {},
   "outputs": [],
   "source": [
    "#HI.to_excel('dataSample3.xlsx')"
   ]
  },
  {
   "cell_type": "code",
   "execution_count": 8,
   "metadata": {},
   "outputs": [],
   "source": [
    "#HI.isna()"
   ]
  },
  {
   "cell_type": "code",
   "execution_count": 9,
   "metadata": {},
   "outputs": [
    {
     "name": "stdout",
     "output_type": "stream",
     "text": [
      "<class 'pandas.core.frame.DataFrame'>\n",
      "Int64Index: 594867 entries, 2072128 to 1568837\n",
      "Data columns (total 49 columns):\n",
      "ID                       594867 non-null object\n",
      "Source                   594867 non-null object\n",
      "TMC                      449579 non-null float64\n",
      "Severity                 594867 non-null int64\n",
      "Start_Time               594867 non-null object\n",
      "End_Time                 594867 non-null object\n",
      "Start_Lat                594867 non-null float64\n",
      "Start_Lng                594867 non-null float64\n",
      "End_Lat                  145288 non-null float64\n",
      "End_Lng                  145288 non-null float64\n",
      "Distance(mi)             594867 non-null float64\n",
      "Description              594866 non-null object\n",
      "Number                   211335 non-null float64\n",
      "Street                   594867 non-null object\n",
      "Side                     594867 non-null object\n",
      "City                     594850 non-null object\n",
      "County                   594867 non-null object\n",
      "State                    594867 non-null object\n",
      "Zipcode                  594695 non-null object\n",
      "Country                  594867 non-null object\n",
      "Timezone                 594206 non-null object\n",
      "Airport_Code             593671 non-null object\n",
      "Weather_Timestamp        587499 non-null object\n",
      "Temperature(F)           583735 non-null float64\n",
      "Wind_Chill(F)            224087 non-null float64\n",
      "Humidity(%)              583106 non-null float64\n",
      "Pressure(in)             585173 non-null float64\n",
      "Visibility(mi)           581675 non-null float64\n",
      "Wind_Direction           585811 non-null object\n",
      "Wind_Speed(mph)          506500 non-null float64\n",
      "Precipitation(in)        195415 non-null float64\n",
      "Weather_Condition        581645 non-null object\n",
      "Amenity                  594867 non-null bool\n",
      "Bump                     594867 non-null bool\n",
      "Crossing                 594867 non-null bool\n",
      "Give_Way                 594867 non-null bool\n",
      "Junction                 594867 non-null bool\n",
      "No_Exit                  594867 non-null bool\n",
      "Railway                  594867 non-null bool\n",
      "Roundabout               594867 non-null bool\n",
      "Station                  594867 non-null bool\n",
      "Stop                     594867 non-null bool\n",
      "Traffic_Calming          594867 non-null bool\n",
      "Traffic_Signal           594867 non-null bool\n",
      "Turning_Loop             594867 non-null bool\n",
      "Sunrise_Sunset           594850 non-null object\n",
      "Civil_Twilight           594850 non-null object\n",
      "Nautical_Twilight        594850 non-null object\n",
      "Astronomical_Twilight    594850 non-null object\n",
      "dtypes: bool(13), float64(14), int64(1), object(21)\n",
      "memory usage: 175.3+ MB\n"
     ]
    }
   ],
   "source": [
    "data.info()"
   ]
  },
  {
   "cell_type": "code",
   "execution_count": 10,
   "metadata": {},
   "outputs": [],
   "source": [
    "del data['ID']\n",
    "del data['Start_Time']\n",
    "del data['End_Time']\n",
    "del data['Description']\n",
    "del data['Street']\n",
    "del data['Zipcode']\n",
    "del data['Weather_Timestamp']\n",
    "del data['Amenity']\n",
    "del data['Bump']\n",
    "del data['Crossing']\n",
    "del data['Give_Way']\n",
    "del data['Junction']\n",
    "del data['No_Exit']\n",
    "del data['Railway']\n",
    "del data['Roundabout']\n",
    "del data['Station']\n",
    "del data['Stop']\n",
    "del data['Traffic_Calming']\n",
    "del data['Traffic_Signal']\n",
    "del data['Turning_Loop']"
   ]
  },
  {
   "cell_type": "code",
   "execution_count": 11,
   "metadata": {},
   "outputs": [],
   "source": [
    "# Rellena los campos vacios con el valor cero\n",
    "\n",
    "data['Start_Lat'] = data['Start_Lat'].fillna(0)\n",
    "data['Start_Lng'] = data['Start_Lng'].fillna(0)\n",
    "data['End_Lat'] = data['End_Lat'].fillna(0)\n",
    "data['End_Lng'] = data['End_Lng'].fillna(0)\n",
    "data['Distance(mi)'] = data['Distance(mi)'].fillna(0)\n",
    "data['Number'] = data['Number'].fillna(0)\n",
    "data['Temperature(F)'] = data['Temperature(F)'].fillna(0)\n",
    "data['Wind_Chill(F)'] = data['Wind_Chill(F)'].fillna(0)\n",
    "data['Humidity(%)'] = data['Humidity(%)'].fillna(0)\n",
    "data['Pressure(in)'] = data['Pressure(in)'].fillna(0)\n",
    "data['Visibility(mi)'] = data['Visibility(mi)'].fillna(0)\n",
    "data['Wind_Speed(mph)'] = data['Wind_Speed(mph)'].fillna(0)\n",
    "data['Precipitation(in)'] = data['Precipitation(in)'].fillna(0)"
   ]
  },
  {
   "cell_type": "code",
   "execution_count": 12,
   "metadata": {},
   "outputs": [
    {
     "data": {
      "text/html": [
       "<div>\n",
       "<style scoped>\n",
       "    .dataframe tbody tr th:only-of-type {\n",
       "        vertical-align: middle;\n",
       "    }\n",
       "\n",
       "    .dataframe tbody tr th {\n",
       "        vertical-align: top;\n",
       "    }\n",
       "\n",
       "    .dataframe thead th {\n",
       "        text-align: right;\n",
       "    }\n",
       "</style>\n",
       "<table border=\"1\" class=\"dataframe\">\n",
       "  <thead>\n",
       "    <tr style=\"text-align: right;\">\n",
       "      <th></th>\n",
       "      <th>Source</th>\n",
       "      <th>TMC</th>\n",
       "      <th>Severity</th>\n",
       "      <th>Start_Lat</th>\n",
       "      <th>Start_Lng</th>\n",
       "      <th>End_Lat</th>\n",
       "      <th>End_Lng</th>\n",
       "      <th>Distance(mi)</th>\n",
       "      <th>Number</th>\n",
       "      <th>Side</th>\n",
       "      <th>...</th>\n",
       "      <th>Pressure(in)</th>\n",
       "      <th>Visibility(mi)</th>\n",
       "      <th>Wind_Direction</th>\n",
       "      <th>Wind_Speed(mph)</th>\n",
       "      <th>Precipitation(in)</th>\n",
       "      <th>Weather_Condition</th>\n",
       "      <th>Sunrise_Sunset</th>\n",
       "      <th>Civil_Twilight</th>\n",
       "      <th>Nautical_Twilight</th>\n",
       "      <th>Astronomical_Twilight</th>\n",
       "    </tr>\n",
       "  </thead>\n",
       "  <tbody>\n",
       "    <tr>\n",
       "      <td>2072128</td>\n",
       "      <td>False</td>\n",
       "      <td>False</td>\n",
       "      <td>False</td>\n",
       "      <td>False</td>\n",
       "      <td>False</td>\n",
       "      <td>False</td>\n",
       "      <td>False</td>\n",
       "      <td>False</td>\n",
       "      <td>False</td>\n",
       "      <td>False</td>\n",
       "      <td>...</td>\n",
       "      <td>False</td>\n",
       "      <td>False</td>\n",
       "      <td>False</td>\n",
       "      <td>False</td>\n",
       "      <td>False</td>\n",
       "      <td>False</td>\n",
       "      <td>False</td>\n",
       "      <td>False</td>\n",
       "      <td>False</td>\n",
       "      <td>False</td>\n",
       "    </tr>\n",
       "    <tr>\n",
       "      <td>1791284</td>\n",
       "      <td>False</td>\n",
       "      <td>False</td>\n",
       "      <td>False</td>\n",
       "      <td>False</td>\n",
       "      <td>False</td>\n",
       "      <td>False</td>\n",
       "      <td>False</td>\n",
       "      <td>False</td>\n",
       "      <td>False</td>\n",
       "      <td>False</td>\n",
       "      <td>...</td>\n",
       "      <td>False</td>\n",
       "      <td>False</td>\n",
       "      <td>False</td>\n",
       "      <td>False</td>\n",
       "      <td>False</td>\n",
       "      <td>False</td>\n",
       "      <td>False</td>\n",
       "      <td>False</td>\n",
       "      <td>False</td>\n",
       "      <td>False</td>\n",
       "    </tr>\n",
       "    <tr>\n",
       "      <td>621477</td>\n",
       "      <td>False</td>\n",
       "      <td>False</td>\n",
       "      <td>False</td>\n",
       "      <td>False</td>\n",
       "      <td>False</td>\n",
       "      <td>False</td>\n",
       "      <td>False</td>\n",
       "      <td>False</td>\n",
       "      <td>False</td>\n",
       "      <td>False</td>\n",
       "      <td>...</td>\n",
       "      <td>False</td>\n",
       "      <td>False</td>\n",
       "      <td>False</td>\n",
       "      <td>False</td>\n",
       "      <td>False</td>\n",
       "      <td>False</td>\n",
       "      <td>False</td>\n",
       "      <td>False</td>\n",
       "      <td>False</td>\n",
       "      <td>False</td>\n",
       "    </tr>\n",
       "    <tr>\n",
       "      <td>648318</td>\n",
       "      <td>False</td>\n",
       "      <td>False</td>\n",
       "      <td>False</td>\n",
       "      <td>False</td>\n",
       "      <td>False</td>\n",
       "      <td>False</td>\n",
       "      <td>False</td>\n",
       "      <td>False</td>\n",
       "      <td>False</td>\n",
       "      <td>False</td>\n",
       "      <td>...</td>\n",
       "      <td>False</td>\n",
       "      <td>False</td>\n",
       "      <td>False</td>\n",
       "      <td>False</td>\n",
       "      <td>False</td>\n",
       "      <td>False</td>\n",
       "      <td>False</td>\n",
       "      <td>False</td>\n",
       "      <td>False</td>\n",
       "      <td>False</td>\n",
       "    </tr>\n",
       "    <tr>\n",
       "      <td>2218373</td>\n",
       "      <td>False</td>\n",
       "      <td>False</td>\n",
       "      <td>False</td>\n",
       "      <td>False</td>\n",
       "      <td>False</td>\n",
       "      <td>False</td>\n",
       "      <td>False</td>\n",
       "      <td>False</td>\n",
       "      <td>False</td>\n",
       "      <td>False</td>\n",
       "      <td>...</td>\n",
       "      <td>False</td>\n",
       "      <td>False</td>\n",
       "      <td>False</td>\n",
       "      <td>False</td>\n",
       "      <td>False</td>\n",
       "      <td>False</td>\n",
       "      <td>False</td>\n",
       "      <td>False</td>\n",
       "      <td>False</td>\n",
       "      <td>False</td>\n",
       "    </tr>\n",
       "    <tr>\n",
       "      <td>...</td>\n",
       "      <td>...</td>\n",
       "      <td>...</td>\n",
       "      <td>...</td>\n",
       "      <td>...</td>\n",
       "      <td>...</td>\n",
       "      <td>...</td>\n",
       "      <td>...</td>\n",
       "      <td>...</td>\n",
       "      <td>...</td>\n",
       "      <td>...</td>\n",
       "      <td>...</td>\n",
       "      <td>...</td>\n",
       "      <td>...</td>\n",
       "      <td>...</td>\n",
       "      <td>...</td>\n",
       "      <td>...</td>\n",
       "      <td>...</td>\n",
       "      <td>...</td>\n",
       "      <td>...</td>\n",
       "      <td>...</td>\n",
       "      <td>...</td>\n",
       "    </tr>\n",
       "    <tr>\n",
       "      <td>958106</td>\n",
       "      <td>False</td>\n",
       "      <td>False</td>\n",
       "      <td>False</td>\n",
       "      <td>False</td>\n",
       "      <td>False</td>\n",
       "      <td>False</td>\n",
       "      <td>False</td>\n",
       "      <td>False</td>\n",
       "      <td>False</td>\n",
       "      <td>False</td>\n",
       "      <td>...</td>\n",
       "      <td>False</td>\n",
       "      <td>False</td>\n",
       "      <td>False</td>\n",
       "      <td>False</td>\n",
       "      <td>False</td>\n",
       "      <td>False</td>\n",
       "      <td>False</td>\n",
       "      <td>False</td>\n",
       "      <td>False</td>\n",
       "      <td>False</td>\n",
       "    </tr>\n",
       "    <tr>\n",
       "      <td>1838056</td>\n",
       "      <td>False</td>\n",
       "      <td>False</td>\n",
       "      <td>False</td>\n",
       "      <td>False</td>\n",
       "      <td>False</td>\n",
       "      <td>False</td>\n",
       "      <td>False</td>\n",
       "      <td>False</td>\n",
       "      <td>False</td>\n",
       "      <td>False</td>\n",
       "      <td>...</td>\n",
       "      <td>False</td>\n",
       "      <td>False</td>\n",
       "      <td>False</td>\n",
       "      <td>False</td>\n",
       "      <td>False</td>\n",
       "      <td>False</td>\n",
       "      <td>False</td>\n",
       "      <td>False</td>\n",
       "      <td>False</td>\n",
       "      <td>False</td>\n",
       "    </tr>\n",
       "    <tr>\n",
       "      <td>2223912</td>\n",
       "      <td>False</td>\n",
       "      <td>False</td>\n",
       "      <td>False</td>\n",
       "      <td>False</td>\n",
       "      <td>False</td>\n",
       "      <td>False</td>\n",
       "      <td>False</td>\n",
       "      <td>False</td>\n",
       "      <td>False</td>\n",
       "      <td>False</td>\n",
       "      <td>...</td>\n",
       "      <td>False</td>\n",
       "      <td>False</td>\n",
       "      <td>False</td>\n",
       "      <td>False</td>\n",
       "      <td>False</td>\n",
       "      <td>False</td>\n",
       "      <td>False</td>\n",
       "      <td>False</td>\n",
       "      <td>False</td>\n",
       "      <td>False</td>\n",
       "    </tr>\n",
       "    <tr>\n",
       "      <td>1675416</td>\n",
       "      <td>False</td>\n",
       "      <td>False</td>\n",
       "      <td>False</td>\n",
       "      <td>False</td>\n",
       "      <td>False</td>\n",
       "      <td>False</td>\n",
       "      <td>False</td>\n",
       "      <td>False</td>\n",
       "      <td>False</td>\n",
       "      <td>False</td>\n",
       "      <td>...</td>\n",
       "      <td>False</td>\n",
       "      <td>False</td>\n",
       "      <td>False</td>\n",
       "      <td>False</td>\n",
       "      <td>False</td>\n",
       "      <td>False</td>\n",
       "      <td>False</td>\n",
       "      <td>False</td>\n",
       "      <td>False</td>\n",
       "      <td>False</td>\n",
       "    </tr>\n",
       "    <tr>\n",
       "      <td>1568837</td>\n",
       "      <td>False</td>\n",
       "      <td>False</td>\n",
       "      <td>False</td>\n",
       "      <td>False</td>\n",
       "      <td>False</td>\n",
       "      <td>False</td>\n",
       "      <td>False</td>\n",
       "      <td>False</td>\n",
       "      <td>False</td>\n",
       "      <td>False</td>\n",
       "      <td>...</td>\n",
       "      <td>False</td>\n",
       "      <td>False</td>\n",
       "      <td>False</td>\n",
       "      <td>False</td>\n",
       "      <td>False</td>\n",
       "      <td>False</td>\n",
       "      <td>False</td>\n",
       "      <td>False</td>\n",
       "      <td>False</td>\n",
       "      <td>False</td>\n",
       "    </tr>\n",
       "  </tbody>\n",
       "</table>\n",
       "<p>594867 rows × 29 columns</p>\n",
       "</div>"
      ],
      "text/plain": [
       "         Source    TMC  Severity  Start_Lat  Start_Lng  End_Lat  End_Lng  \\\n",
       "2072128   False  False     False      False      False    False    False   \n",
       "1791284   False  False     False      False      False    False    False   \n",
       "621477    False  False     False      False      False    False    False   \n",
       "648318    False  False     False      False      False    False    False   \n",
       "2218373   False  False     False      False      False    False    False   \n",
       "...         ...    ...       ...        ...        ...      ...      ...   \n",
       "958106    False  False     False      False      False    False    False   \n",
       "1838056   False  False     False      False      False    False    False   \n",
       "2223912   False  False     False      False      False    False    False   \n",
       "1675416   False  False     False      False      False    False    False   \n",
       "1568837   False  False     False      False      False    False    False   \n",
       "\n",
       "         Distance(mi)  Number   Side  ...  Pressure(in)  Visibility(mi)  \\\n",
       "2072128         False   False  False  ...         False           False   \n",
       "1791284         False   False  False  ...         False           False   \n",
       "621477          False   False  False  ...         False           False   \n",
       "648318          False   False  False  ...         False           False   \n",
       "2218373         False   False  False  ...         False           False   \n",
       "...               ...     ...    ...  ...           ...             ...   \n",
       "958106          False   False  False  ...         False           False   \n",
       "1838056         False   False  False  ...         False           False   \n",
       "2223912         False   False  False  ...         False           False   \n",
       "1675416         False   False  False  ...         False           False   \n",
       "1568837         False   False  False  ...         False           False   \n",
       "\n",
       "         Wind_Direction  Wind_Speed(mph)  Precipitation(in)  \\\n",
       "2072128           False            False              False   \n",
       "1791284           False            False              False   \n",
       "621477            False            False              False   \n",
       "648318            False            False              False   \n",
       "2218373           False            False              False   \n",
       "...                 ...              ...                ...   \n",
       "958106            False            False              False   \n",
       "1838056           False            False              False   \n",
       "2223912           False            False              False   \n",
       "1675416           False            False              False   \n",
       "1568837           False            False              False   \n",
       "\n",
       "         Weather_Condition  Sunrise_Sunset  Civil_Twilight  Nautical_Twilight  \\\n",
       "2072128              False           False           False              False   \n",
       "1791284              False           False           False              False   \n",
       "621477               False           False           False              False   \n",
       "648318               False           False           False              False   \n",
       "2218373              False           False           False              False   \n",
       "...                    ...             ...             ...                ...   \n",
       "958106               False           False           False              False   \n",
       "1838056              False           False           False              False   \n",
       "2223912              False           False           False              False   \n",
       "1675416              False           False           False              False   \n",
       "1568837              False           False           False              False   \n",
       "\n",
       "         Astronomical_Twilight  \n",
       "2072128                  False  \n",
       "1791284                  False  \n",
       "621477                   False  \n",
       "648318                   False  \n",
       "2218373                  False  \n",
       "...                        ...  \n",
       "958106                   False  \n",
       "1838056                  False  \n",
       "2223912                  False  \n",
       "1675416                  False  \n",
       "1568837                  False  \n",
       "\n",
       "[594867 rows x 29 columns]"
      ]
     },
     "execution_count": 12,
     "metadata": {},
     "output_type": "execute_result"
    }
   ],
   "source": [
    "# Verifica que hayan campos vacios en el dataset\n",
    "\n",
    "data.isna()"
   ]
  },
  {
   "cell_type": "code",
   "execution_count": 13,
   "metadata": {},
   "outputs": [],
   "source": [
    "data['Start_Lat'] = data['Start_Lat'].round(decimals = 2)\n",
    "data['Start_Lng'] = data['Start_Lng'].round(decimals = 2)\n",
    "data['End_Lat'] = data['End_Lat'].round(decimals = 2)\n",
    "data['End_Lng'] = data['End_Lng'].round(decimals = 2)\n",
    "data['Distance(mi)'] = data['Distance(mi)'].round(decimals = 2)"
   ]
  },
  {
   "cell_type": "code",
   "execution_count": 14,
   "metadata": {},
   "outputs": [],
   "source": [
    "data['Source'] = data['Source'].astype('category')\n",
    "data['TMC'] = data['TMC'].astype('category')\n",
    "data['Severity'] = data['Severity'].astype('category')\n",
    "data['City'] = data['City'].astype('category')\n",
    "data['County'] = data['County'].astype('category')\n",
    "data['State'] = data['State'].astype('category')\n",
    "data['Country'] = data['Country'].astype('category')\n",
    "data['Timezone'] = data['Timezone'].astype('category')\n",
    "data['Airport_Code'] = data['Airport_Code'].astype('category')\n",
    "data['Side'] = data['Side'].astype('category')\n",
    "data['Wind_Direction'] = data['Wind_Direction'].astype('category')\n",
    "data['Weather_Condition'] = data['Weather_Condition'].astype('category')\n",
    "data['Sunrise_Sunset'] = data['Sunrise_Sunset'].astype('category')\n",
    "data['Civil_Twilight'] = data['Civil_Twilight'].astype('category')\n",
    "data['Nautical_Twilight'] = data['Nautical_Twilight'].astype('category')\n",
    "data['Astronomical_Twilight'] = data['Astronomical_Twilight'].astype('category')\n",
    "\n"
   ]
  },
  {
   "cell_type": "code",
   "execution_count": 15,
   "metadata": {},
   "outputs": [],
   "source": [
    "data['Source'] = data['Source'].cat.codes\n",
    "data['TMC'] = data['TMC'].cat.codes\n",
    "data['Severity'] = data['Severity'].cat.codes\n",
    "data['City'] = data['City'].cat.codes\n",
    "data['County'] = data['County'].cat.codes\n",
    "data['State'] = data['State'].cat.codes\n",
    "data['Country'] = data['Country'].cat.codes\n",
    "data['Timezone'] = data['Timezone'].cat.codes\n",
    "data['Airport_Code'] = data['Airport_Code'].cat.codes\n",
    "data['Side'] = data['Side'].cat.codes\n",
    "data['Wind_Direction'] = data['Wind_Direction'].cat.codes\n",
    "data['Weather_Condition'] = data['Weather_Condition'].cat.codes\n",
    "data['Sunrise_Sunset'] = data['Sunrise_Sunset'].cat.codes\n",
    "data['Civil_Twilight'] = data['Civil_Twilight'].cat.codes\n",
    "data['Nautical_Twilight'] = data['Nautical_Twilight'].cat.codes\n",
    "data['Astronomical_Twilight'] = data['Astronomical_Twilight'].cat.codes\n"
   ]
  },
  {
   "cell_type": "code",
   "execution_count": 16,
   "metadata": {},
   "outputs": [],
   "source": [
    "data['Source'] = data['Source'].astype('category')\n",
    "data['TMC'] = data['TMC'].astype('category')\n",
    "data['Severity'] = data['Severity'].astype('category')\n",
    "data['City'] = data['City'].astype('category')\n",
    "data['County'] = data['County'].astype('category')\n",
    "data['State'] = data['State'].astype('category')\n",
    "data['Country'] = data['Country'].astype('category')\n",
    "data['Timezone'] = data['Timezone'].astype('category')\n",
    "data['Airport_Code'] = data['Airport_Code'].astype('category')\n",
    "data['Side'] = data['Side'].astype('category')\n",
    "data['Wind_Direction'] = data['Wind_Direction'].astype('category')\n",
    "data['Weather_Condition'] = data['Weather_Condition'].astype('category')\n",
    "data['Sunrise_Sunset'] = data['Sunrise_Sunset'].astype('category')\n",
    "data['Civil_Twilight'] = data['Civil_Twilight'].astype('category')\n",
    "data['Nautical_Twilight'] = data['Nautical_Twilight'].astype('category')\n",
    "data['Astronomical_Twilight'] = data['Astronomical_Twilight'].astype('category')\n"
   ]
  },
  {
   "cell_type": "code",
   "execution_count": 17,
   "metadata": {},
   "outputs": [
    {
     "name": "stdout",
     "output_type": "stream",
     "text": [
      "<class 'pandas.core.frame.DataFrame'>\n",
      "Int64Index: 594867 entries, 2072128 to 1568837\n",
      "Data columns (total 29 columns):\n",
      "Source                   594867 non-null category\n",
      "TMC                      594867 non-null category\n",
      "Severity                 594867 non-null category\n",
      "Start_Lat                594867 non-null float64\n",
      "Start_Lng                594867 non-null float64\n",
      "End_Lat                  594867 non-null float64\n",
      "End_Lng                  594867 non-null float64\n",
      "Distance(mi)             594867 non-null float64\n",
      "Number                   594867 non-null float64\n",
      "Side                     594867 non-null category\n",
      "City                     594867 non-null category\n",
      "County                   594867 non-null category\n",
      "State                    594867 non-null category\n",
      "Country                  594867 non-null category\n",
      "Timezone                 594867 non-null category\n",
      "Airport_Code             594867 non-null category\n",
      "Temperature(F)           594867 non-null float64\n",
      "Wind_Chill(F)            594867 non-null float64\n",
      "Humidity(%)              594867 non-null float64\n",
      "Pressure(in)             594867 non-null float64\n",
      "Visibility(mi)           594867 non-null float64\n",
      "Wind_Direction           594867 non-null category\n",
      "Wind_Speed(mph)          594867 non-null float64\n",
      "Precipitation(in)        594867 non-null float64\n",
      "Weather_Condition        594867 non-null category\n",
      "Sunrise_Sunset           594867 non-null category\n",
      "Civil_Twilight           594867 non-null category\n",
      "Nautical_Twilight        594867 non-null category\n",
      "Astronomical_Twilight    594867 non-null category\n",
      "dtypes: category(16), float64(13)\n",
      "memory usage: 74.9 MB\n"
     ]
    }
   ],
   "source": [
    "data.info()"
   ]
  },
  {
   "cell_type": "code",
   "execution_count": 18,
   "metadata": {},
   "outputs": [],
   "source": [
    "depVar = data['Timezone']"
   ]
  },
  {
   "cell_type": "code",
   "execution_count": 19,
   "metadata": {},
   "outputs": [
    {
     "data": {
      "text/plain": [
       "<matplotlib.axes._subplots.AxesSubplot at 0x24803e3c5c8>"
      ]
     },
     "execution_count": 19,
     "metadata": {},
     "output_type": "execute_result"
    },
    {
     "data": {
      "image/png": "[encoded data removed]",
      "text/plain": [
       "<Figure size 864x864 with 2 Axes>"
      ]
     },
     "metadata": {
      "needs_background": "light"
     },
     "output_type": "display_data"
    }
   ],
   "source": [
    "corr = data.corr()\n",
    "f, ax = plt.subplots(figsize = (12, 12))\n",
    "sns.heatmap(corr, \n",
    "            cbar = True,  \n",
    "            square = True, \n",
    "            annot = False, \n",
    "            fmt = '.1f', \n",
    "            xticklabels = True, \n",
    "            yticklabels = True, \n",
    "            cmap = \"coolwarm\", \n",
    "            linewidths = .5, \n",
    "            ax = ax)"
   ]
  },
  {
   "cell_type": "code",
   "execution_count": 20,
   "metadata": {},
   "outputs": [],
   "source": [
    "test_size = 0.30\n",
    "seed = 5436\n",
    "x_train, x_test = train_test_split(data, test_size= test_size, random_state=seed, shuffle=True)"
   ]
  },
  {
   "cell_type": "code",
   "execution_count": 21,
   "metadata": {},
   "outputs": [
    {
     "data": {
      "text/plain": [
       "((416406, 29), (178461, 29))"
      ]
     },
     "execution_count": 21,
     "metadata": {},
     "output_type": "execute_result"
    }
   ],
   "source": [
    "x_train.shape, x_test.shape"
   ]
  },
  {
   "cell_type": "code",
   "execution_count": 22,
   "metadata": {},
   "outputs": [],
   "source": [
    "y_train, y_test = train_test_split(depVar, test_size= test_size, random_state=seed, shuffle=True)"
   ]
  },
  {
   "cell_type": "code",
   "execution_count": 23,
   "metadata": {},
   "outputs": [
    {
     "data": {
      "text/plain": [
       "((416406,), (178461,))"
      ]
     },
     "execution_count": 23,
     "metadata": {},
     "output_type": "execute_result"
    }
   ],
   "source": [
    "y_train.shape, y_test.shape"
   ]
  },
  {
   "cell_type": "code",
   "execution_count": 24,
   "metadata": {},
   "outputs": [],
   "source": [
    "modelSVC = SVC(C=1.0, \n",
    "               #cache_size=400, \n",
    "               degree=3,\n",
    "               gamma='scale',\n",
    "               verbose=True)\n",
    "\n",
    "modelRFC = RandomForestClassifier(bootstrap=True, \n",
    "                                 max_depth=10, \n",
    "                                 max_features='auto', \n",
    "                                 n_estimators=10, \n",
    "                                 n_jobs=10)\n",
    "\n",
    "modelGBM = GradientBoostingClassifier(max_depth=2, \n",
    "                                      n_estimators=100,\n",
    "                                      verbose=1)\n",
    "\n"
   ]
  },
  {
   "cell_type": "code",
   "execution_count": 25,
   "metadata": {},
   "outputs": [
    {
     "data": {
      "text/plain": [
       "RandomForestClassifier(bootstrap=True, class_weight=None, criterion='gini',\n",
       "                       max_depth=10, max_features='auto', max_leaf_nodes=None,\n",
       "                       min_impurity_decrease=0.0, min_impurity_split=None,\n",
       "                       min_samples_leaf=1, min_samples_split=2,\n",
       "                       min_weight_fraction_leaf=0.0, n_estimators=10, n_jobs=10,\n",
       "                       oob_score=False, random_state=None, verbose=0,\n",
       "                       warm_start=False)"
      ]
     },
     "execution_count": 25,
     "metadata": {},
     "output_type": "execute_result"
    }
   ],
   "source": [
    "#Random Forest\n",
    "\n",
    "modelRFC.fit(x_train,y_train)"
   ]
  },
  {
   "cell_type": "code",
   "execution_count": 26,
   "metadata": {},
   "outputs": [
    {
     "name": "stderr",
     "output_type": "stream",
     "text": [
      "C:\\Users\\alvarado\\AppData\\Local\\Continuum\\anaconda3\\lib\\site-packages\\sklearn\\model_selection\\_split.py:1978: FutureWarning: The default value of cv will change from 3 to 5 in version 0.22. Specify it explicitly to silence this warning.\n",
      "  warnings.warn(CV_WARNING, FutureWarning)\n"
     ]
    },
    {
     "name": "stdout",
     "output_type": "stream",
     "text": [
      "[0.99998559 0.99997839 1.        ]\n",
      "1.0\n"
     ]
    }
   ],
   "source": [
    "#Metricas Random Forest\n",
    "\n",
    "print(cross_val_score(modelRFC, x_train, y_train)) \n",
    "print(modelRFC.score(x_train, y_train))"
   ]
  },
  {
   "cell_type": "code",
   "execution_count": 27,
   "metadata": {},
   "outputs": [
    {
     "name": "stdout",
     "output_type": "stream",
     "text": [
      "      Iter       Train Loss   Remaining Time \n",
      "         1      400212.6642            6.22m\n",
      "         2      328477.0840            6.56m\n",
      "         3      274094.3205            6.63m\n",
      "         4      231312.6077            6.60m\n",
      "         5      191372.4732            6.56m\n"
     ]
    },
    {
     "ename": "KeyboardInterrupt",
     "evalue": "",
     "output_type": "error",
     "traceback": [
      "\u001b[1;31m---------------------------------------------------------------------------\u001b[0m",
      "\u001b[1;31mKeyboardInterrupt\u001b[0m                         Traceback (most recent call last)",
      "\u001b[1;32m<ipython-input-27-90fa17eb2c22>\u001b[0m in \u001b[0;36m<module>\u001b[1;34m\u001b[0m\n\u001b[0;32m      1\u001b[0m \u001b[1;31m#Gradient Boosting Model\u001b[0m\u001b[1;33m\u001b[0m\u001b[1;33m\u001b[0m\u001b[1;33m\u001b[0m\u001b[0m\n\u001b[0;32m      2\u001b[0m \u001b[1;33m\u001b[0m\u001b[0m\n\u001b[1;32m----> 3\u001b[1;33m \u001b[0mmodelGBM\u001b[0m\u001b[1;33m.\u001b[0m\u001b[0mfit\u001b[0m\u001b[1;33m(\u001b[0m\u001b[0mx_train\u001b[0m\u001b[1;33m,\u001b[0m\u001b[0my_train\u001b[0m\u001b[1;33m)\u001b[0m\u001b[1;33m\u001b[0m\u001b[1;33m\u001b[0m\u001b[0m\n\u001b[0m",
      "\u001b[1;32m~\\AppData\\Local\\Continuum\\anaconda3\\lib\\site-packages\\sklearn\\ensemble\\gradient_boosting.py\u001b[0m in \u001b[0;36mfit\u001b[1;34m(self, X, y, sample_weight, monitor)\u001b[0m\n\u001b[0;32m   1544\u001b[0m         n_stages = self._fit_stages(\n\u001b[0;32m   1545\u001b[0m             \u001b[0mX\u001b[0m\u001b[1;33m,\u001b[0m \u001b[0my\u001b[0m\u001b[1;33m,\u001b[0m \u001b[0mraw_predictions\u001b[0m\u001b[1;33m,\u001b[0m \u001b[0msample_weight\u001b[0m\u001b[1;33m,\u001b[0m \u001b[0mself\u001b[0m\u001b[1;33m.\u001b[0m\u001b[0m_rng\u001b[0m\u001b[1;33m,\u001b[0m \u001b[0mX_val\u001b[0m\u001b[1;33m,\u001b[0m \u001b[0my_val\u001b[0m\u001b[1;33m,\u001b[0m\u001b[1;33m\u001b[0m\u001b[1;33m\u001b[0m\u001b[0m\n\u001b[1;32m-> 1546\u001b[1;33m             sample_weight_val, begin_at_stage, monitor, X_idx_sorted)\n\u001b[0m\u001b[0;32m   1547\u001b[0m \u001b[1;33m\u001b[0m\u001b[0m\n\u001b[0;32m   1548\u001b[0m         \u001b[1;31m# change shape of arrays after fit (early-stopping or additional ests)\u001b[0m\u001b[1;33m\u001b[0m\u001b[1;33m\u001b[0m\u001b[1;33m\u001b[0m\u001b[0m\n",
      "\u001b[1;32m~\\AppData\\Local\\Continuum\\anaconda3\\lib\\site-packages\\sklearn\\ensemble\\gradient_boosting.py\u001b[0m in \u001b[0;36m_fit_stages\u001b[1;34m(self, X, y, raw_predictions, sample_weight, random_state, X_val, y_val, sample_weight_val, begin_at_stage, monitor, X_idx_sorted)\u001b[0m\n\u001b[0;32m   1608\u001b[0m             raw_predictions = self._fit_stage(\n\u001b[0;32m   1609\u001b[0m                 \u001b[0mi\u001b[0m\u001b[1;33m,\u001b[0m \u001b[0mX\u001b[0m\u001b[1;33m,\u001b[0m \u001b[0my\u001b[0m\u001b[1;33m,\u001b[0m \u001b[0mraw_predictions\u001b[0m\u001b[1;33m,\u001b[0m \u001b[0msample_weight\u001b[0m\u001b[1;33m,\u001b[0m \u001b[0msample_mask\u001b[0m\u001b[1;33m,\u001b[0m\u001b[1;33m\u001b[0m\u001b[1;33m\u001b[0m\u001b[0m\n\u001b[1;32m-> 1610\u001b[1;33m                 random_state, X_idx_sorted, X_csc, X_csr)\n\u001b[0m\u001b[0;32m   1611\u001b[0m \u001b[1;33m\u001b[0m\u001b[0m\n\u001b[0;32m   1612\u001b[0m             \u001b[1;31m# track deviance (= loss)\u001b[0m\u001b[1;33m\u001b[0m\u001b[1;33m\u001b[0m\u001b[1;33m\u001b[0m\u001b[0m\n",
      "\u001b[1;32m~\\AppData\\Local\\Continuum\\anaconda3\\lib\\site-packages\\sklearn\\ensemble\\gradient_boosting.py\u001b[0m in \u001b[0;36m_fit_stage\u001b[1;34m(self, i, X, y, raw_predictions, sample_weight, sample_mask, random_state, X_idx_sorted, X_csc, X_csr)\u001b[0m\n\u001b[0;32m   1242\u001b[0m             \u001b[0mX\u001b[0m \u001b[1;33m=\u001b[0m \u001b[0mX_csr\u001b[0m \u001b[1;32mif\u001b[0m \u001b[0mX_csr\u001b[0m \u001b[1;32mis\u001b[0m \u001b[1;32mnot\u001b[0m \u001b[1;32mNone\u001b[0m \u001b[1;32melse\u001b[0m \u001b[0mX\u001b[0m\u001b[1;33m\u001b[0m\u001b[1;33m\u001b[0m\u001b[0m\n\u001b[0;32m   1243\u001b[0m             tree.fit(X, residual, sample_weight=sample_weight,\n\u001b[1;32m-> 1244\u001b[1;33m                      check_input=False, X_idx_sorted=X_idx_sorted)\n\u001b[0m\u001b[0;32m   1245\u001b[0m \u001b[1;33m\u001b[0m\u001b[0m\n\u001b[0;32m   1246\u001b[0m             \u001b[1;31m# update tree leaves\u001b[0m\u001b[1;33m\u001b[0m\u001b[1;33m\u001b[0m\u001b[1;33m\u001b[0m\u001b[0m\n",
      "\u001b[1;32m~\\AppData\\Local\\Continuum\\anaconda3\\lib\\site-packages\\sklearn\\tree\\tree.py\u001b[0m in \u001b[0;36mfit\u001b[1;34m(self, X, y, sample_weight, check_input, X_idx_sorted)\u001b[0m\n\u001b[0;32m   1155\u001b[0m             \u001b[0msample_weight\u001b[0m\u001b[1;33m=\u001b[0m\u001b[0msample_weight\u001b[0m\u001b[1;33m,\u001b[0m\u001b[1;33m\u001b[0m\u001b[1;33m\u001b[0m\u001b[0m\n\u001b[0;32m   1156\u001b[0m             \u001b[0mcheck_input\u001b[0m\u001b[1;33m=\u001b[0m\u001b[0mcheck_input\u001b[0m\u001b[1;33m,\u001b[0m\u001b[1;33m\u001b[0m\u001b[1;33m\u001b[0m\u001b[0m\n\u001b[1;32m-> 1157\u001b[1;33m             X_idx_sorted=X_idx_sorted)\n\u001b[0m\u001b[0;32m   1158\u001b[0m         \u001b[1;32mreturn\u001b[0m \u001b[0mself\u001b[0m\u001b[1;33m\u001b[0m\u001b[1;33m\u001b[0m\u001b[0m\n\u001b[0;32m   1159\u001b[0m \u001b[1;33m\u001b[0m\u001b[0m\n",
      "\u001b[1;32m~\\AppData\\Local\\Continuum\\anaconda3\\lib\\site-packages\\sklearn\\tree\\tree.py\u001b[0m in \u001b[0;36mfit\u001b[1;34m(self, X, y, sample_weight, check_input, X_idx_sorted)\u001b[0m\n\u001b[0;32m    378\u001b[0m                                            min_impurity_split)\n\u001b[0;32m    379\u001b[0m \u001b[1;33m\u001b[0m\u001b[0m\n\u001b[1;32m--> 380\u001b[1;33m         \u001b[0mbuilder\u001b[0m\u001b[1;33m.\u001b[0m\u001b[0mbuild\u001b[0m\u001b[1;33m(\u001b[0m\u001b[0mself\u001b[0m\u001b[1;33m.\u001b[0m\u001b[0mtree_\u001b[0m\u001b[1;33m,\u001b[0m \u001b[0mX\u001b[0m\u001b[1;33m,\u001b[0m \u001b[0my\u001b[0m\u001b[1;33m,\u001b[0m \u001b[0msample_weight\u001b[0m\u001b[1;33m,\u001b[0m \u001b[0mX_idx_sorted\u001b[0m\u001b[1;33m)\u001b[0m\u001b[1;33m\u001b[0m\u001b[1;33m\u001b[0m\u001b[0m\n\u001b[0m\u001b[0;32m    381\u001b[0m \u001b[1;33m\u001b[0m\u001b[0m\n\u001b[0;32m    382\u001b[0m         \u001b[1;32mif\u001b[0m \u001b[0mself\u001b[0m\u001b[1;33m.\u001b[0m\u001b[0mn_outputs_\u001b[0m \u001b[1;33m==\u001b[0m \u001b[1;36m1\u001b[0m\u001b[1;33m:\u001b[0m\u001b[1;33m\u001b[0m\u001b[1;33m\u001b[0m\u001b[0m\n",
      "\u001b[1;31mKeyboardInterrupt\u001b[0m: "
     ]
    }
   ],
   "source": [
    "#Gradient Boosting Model\n",
    "\n",
    "modelGBM.fit(x_train,y_train)"
   ]
  },
  {
   "cell_type": "code",
   "execution_count": null,
   "metadata": {},
   "outputs": [],
   "source": [
    "#Metricas Linear Classifier\n",
    "print(cross_val_score(modelGBM, x_train, y_train)) \n",
    "print(modelGBM.score(x_train, y_train))"
   ]
  },
  {
   "cell_type": "code",
   "execution_count": null,
   "metadata": {},
   "outputs": [],
   "source": [
    "#SVC\n",
    "\n",
    "##Este modelo no devolvio resultados despues de casi 12 horas de procesamiento por lo que queda excluido.\n",
    "\n",
    "#modelSVC.fit(x_train,y_train)"
   ]
  },
  {
   "cell_type": "code",
   "execution_count": null,
   "metadata": {},
   "outputs": [],
   "source": [
    "#Metricas Support Vector Cassifier\n",
    "\n",
    "#print(cross_val_score(modelSVC, x_train, y_train)) \n",
    "#print(modelSVC.score(x_train, y_train))"
   ]
  },
  {
   "cell_type": "code",
   "execution_count": null,
   "metadata": {},
   "outputs": [],
   "source": [
    "#Prediciones con RFC\n",
    "predictions = modelRFC.predict(x_test)"
   ]
  },
  {
   "cell_type": "code",
   "execution_count": null,
   "metadata": {},
   "outputs": [],
   "source": [
    "accurancy = accuracy_score(y_test, predictions)\n",
    "#precision = precision_score(y_test, predictions)\n",
    "#score = recall_score(y_test, predictions)"
   ]
  },
  {
   "cell_type": "code",
   "execution_count": null,
   "metadata": {},
   "outputs": [],
   "source": [
    "print('accurancy: %.3f' % accurancy)\n",
    "print('Precision: %.3f' % precision)\n",
    "print('score: %.3f' % score)"
   ]
  },
  {
   "cell_type": "code",
   "execution_count": null,
   "metadata": {},
   "outputs": [],
   "source": [
    "#Prediciones con SVC\n",
    "#predictions = modelSVC.predict(x_test)"
   ]
  },
  {
   "cell_type": "code",
   "execution_count": null,
   "metadata": {},
   "outputs": [],
   "source": [
    "#accurancy = accuracy_score(y_test, predictions)\n",
    "#precision = precision_score(y_test, predictions)\n",
    "#score = recall_score(y_test, predictions)"
   ]
  },
  {
   "cell_type": "code",
   "execution_count": null,
   "metadata": {},
   "outputs": [],
   "source": [
    "#print('accurancy: %.3f' % accurancy)\n",
    "#print('Precision: %.3f' % precision)\n",
    "#print('score: %.3f' % score)"
   ]
  },
  {
   "cell_type": "code",
   "execution_count": null,
   "metadata": {},
   "outputs": [],
   "source": [
    "#Prediciones con GBM\n",
    "predictions = modelGBM.predict(x_test)"
   ]
  },
  {
   "cell_type": "code",
   "execution_count": null,
   "metadata": {},
   "outputs": [],
   "source": [
    "accurancy = accuracy_score(y_test, predictions)\n",
    "precision = precision_score(y_test, predictions)\n",
    "score = recall_score(y_test, predictions)"
   ]
  },
  {
   "cell_type": "code",
   "execution_count": null,
   "metadata": {},
   "outputs": [],
   "source": [
    "print('accurancy: %.3f' % accurancy)\n",
    "print('Precision: %.3f' % precision)\n",
    "print('score: %.3f' % score)"
   ]
  },
  {
   "cell_type": "code",
   "execution_count": 28,
   "metadata": {},
   "outputs": [],
   "source": [
    "# Cantidad de accidentes por estado\n",
    "\n",
    "states = accidentData.State.unique()\n",
    "\n",
    "count_by_state=[]\n",
    "for i in accidentData.State.unique():\n",
    "    count_by_state.append(accidentData[accidentData['State']==i].count()['ID'])"
   ]
  },
  {
   "cell_type": "code",
   "execution_count": 29,
   "metadata": {},
   "outputs": [
    {
     "data": {
      "text/plain": [
       "<matplotlib.axes._subplots.AxesSubplot at 0x247ede99608>"
      ]
     },
     "execution_count": 29,
     "metadata": {},
     "output_type": "execute_result"
    },
    {
     "data": {
      "image/png": "[encoded data removed]",
      "text/plain": [
       "<Figure size 1152x720 with 1 Axes>"
      ]
     },
     "metadata": {
      "needs_background": "light"
     },
     "output_type": "display_data"
    }
   ],
   "source": [
    "plt.figure(figsize=(16,10))\n",
    "sns.barplot(states, count_by_state)"
   ]
  },
  {
   "cell_type": "code",
   "execution_count": 30,
   "metadata": {},
   "outputs": [
    {
     "name": "stderr",
     "output_type": "stream",
     "text": [
      "C:\\Users\\alvarado\\AppData\\Local\\Continuum\\anaconda3\\lib\\site-packages\\seaborn\\categorical.py:3666: UserWarning: The `factorplot` function has been renamed to `catplot`. The original name will be removed in a future release. Please update your code. Note that the default `kind` in `factorplot` (`'point'`) has changed `'strip'` in `catplot`.\n",
      "  warnings.warn(msg)\n"
     ]
    },
    {
     "data": {
      "text/plain": [
       "<seaborn.axisgrid.FacetGrid at 0x24811374c08>"
      ]
     },
     "execution_count": 30,
     "metadata": {},
     "output_type": "execute_result"
    },
    {
     "data": {
      "image/png": "[encoded data removed]",
      "text/plain": [
       "<Figure size 1164.62x360 with 1 Axes>"
      ]
     },
     "metadata": {
      "needs_background": "light"
     },
     "output_type": "display_data"
    }
   ],
   "source": [
    "sns.factorplot('State', data=accidentData, hue='Sunrise_Sunset', kind='count', aspect=3)"
   ]
  },
  {
   "cell_type": "code",
   "execution_count": 31,
   "metadata": {},
   "outputs": [
    {
     "data": {
      "text/html": [
       "<div>\n",
       "<style scoped>\n",
       "    .dataframe tbody tr th:only-of-type {\n",
       "        vertical-align: middle;\n",
       "    }\n",
       "\n",
       "    .dataframe tbody tr th {\n",
       "        vertical-align: top;\n",
       "    }\n",
       "\n",
       "    .dataframe thead tr th {\n",
       "        text-align: left;\n",
       "    }\n",
       "\n",
       "    .dataframe thead tr:last-of-type th {\n",
       "        text-align: right;\n",
       "    }\n",
       "</style>\n",
       "<table border=\"1\" class=\"dataframe\">\n",
       "  <thead>\n",
       "    <tr>\n",
       "      <th>Sunrise_Sunset</th>\n",
       "      <th colspan=\"4\" halign=\"left\">Day</th>\n",
       "      <th colspan=\"4\" halign=\"left\">Night</th>\n",
       "    </tr>\n",
       "    <tr>\n",
       "      <th>Severity</th>\n",
       "      <th>1</th>\n",
       "      <th>2</th>\n",
       "      <th>3</th>\n",
       "      <th>4</th>\n",
       "      <th>1</th>\n",
       "      <th>2</th>\n",
       "      <th>3</th>\n",
       "      <th>4</th>\n",
       "    </tr>\n",
       "    <tr>\n",
       "      <th>Weather_Condition</th>\n",
       "      <th></th>\n",
       "      <th></th>\n",
       "      <th></th>\n",
       "      <th></th>\n",
       "      <th></th>\n",
       "      <th></th>\n",
       "      <th></th>\n",
       "      <th></th>\n",
       "    </tr>\n",
       "  </thead>\n",
       "  <tbody>\n",
       "    <tr>\n",
       "      <td>Blowing Dust</td>\n",
       "      <td>NaN</td>\n",
       "      <td>30.0</td>\n",
       "      <td>4.0</td>\n",
       "      <td>NaN</td>\n",
       "      <td>NaN</td>\n",
       "      <td>10.0</td>\n",
       "      <td>0.0</td>\n",
       "      <td>NaN</td>\n",
       "    </tr>\n",
       "    <tr>\n",
       "      <td>Blowing Dust / Windy</td>\n",
       "      <td>NaN</td>\n",
       "      <td>55.0</td>\n",
       "      <td>4.0</td>\n",
       "      <td>1.0</td>\n",
       "      <td>NaN</td>\n",
       "      <td>3.0</td>\n",
       "      <td>1.0</td>\n",
       "      <td>0.0</td>\n",
       "    </tr>\n",
       "    <tr>\n",
       "      <td>Blowing Sand</td>\n",
       "      <td>NaN</td>\n",
       "      <td>NaN</td>\n",
       "      <td>1.0</td>\n",
       "      <td>NaN</td>\n",
       "      <td>NaN</td>\n",
       "      <td>NaN</td>\n",
       "      <td>0.0</td>\n",
       "      <td>NaN</td>\n",
       "    </tr>\n",
       "    <tr>\n",
       "      <td>Blowing Snow</td>\n",
       "      <td>NaN</td>\n",
       "      <td>87.0</td>\n",
       "      <td>90.0</td>\n",
       "      <td>20.0</td>\n",
       "      <td>NaN</td>\n",
       "      <td>34.0</td>\n",
       "      <td>29.0</td>\n",
       "      <td>8.0</td>\n",
       "    </tr>\n",
       "    <tr>\n",
       "      <td>Blowing Snow / Windy</td>\n",
       "      <td>NaN</td>\n",
       "      <td>5.0</td>\n",
       "      <td>4.0</td>\n",
       "      <td>NaN</td>\n",
       "      <td>NaN</td>\n",
       "      <td>1.0</td>\n",
       "      <td>0.0</td>\n",
       "      <td>NaN</td>\n",
       "    </tr>\n",
       "    <tr>\n",
       "      <td>...</td>\n",
       "      <td>...</td>\n",
       "      <td>...</td>\n",
       "      <td>...</td>\n",
       "      <td>...</td>\n",
       "      <td>...</td>\n",
       "      <td>...</td>\n",
       "      <td>...</td>\n",
       "      <td>...</td>\n",
       "    </tr>\n",
       "    <tr>\n",
       "      <td>Volcanic Ash</td>\n",
       "      <td>NaN</td>\n",
       "      <td>17.0</td>\n",
       "      <td>2.0</td>\n",
       "      <td>NaN</td>\n",
       "      <td>NaN</td>\n",
       "      <td>3.0</td>\n",
       "      <td>0.0</td>\n",
       "      <td>NaN</td>\n",
       "    </tr>\n",
       "    <tr>\n",
       "      <td>Widespread Dust</td>\n",
       "      <td>NaN</td>\n",
       "      <td>93.0</td>\n",
       "      <td>15.0</td>\n",
       "      <td>1.0</td>\n",
       "      <td>NaN</td>\n",
       "      <td>14.0</td>\n",
       "      <td>5.0</td>\n",
       "      <td>1.0</td>\n",
       "    </tr>\n",
       "    <tr>\n",
       "      <td>Widespread Dust / Windy</td>\n",
       "      <td>NaN</td>\n",
       "      <td>NaN</td>\n",
       "      <td>1.0</td>\n",
       "      <td>NaN</td>\n",
       "      <td>NaN</td>\n",
       "      <td>NaN</td>\n",
       "      <td>0.0</td>\n",
       "      <td>NaN</td>\n",
       "    </tr>\n",
       "    <tr>\n",
       "      <td>Wintry Mix</td>\n",
       "      <td>NaN</td>\n",
       "      <td>282.0</td>\n",
       "      <td>98.0</td>\n",
       "      <td>11.0</td>\n",
       "      <td>NaN</td>\n",
       "      <td>322.0</td>\n",
       "      <td>77.0</td>\n",
       "      <td>9.0</td>\n",
       "    </tr>\n",
       "    <tr>\n",
       "      <td>Wintry Mix / Windy</td>\n",
       "      <td>NaN</td>\n",
       "      <td>4.0</td>\n",
       "      <td>12.0</td>\n",
       "      <td>0.0</td>\n",
       "      <td>NaN</td>\n",
       "      <td>1.0</td>\n",
       "      <td>2.0</td>\n",
       "      <td>1.0</td>\n",
       "    </tr>\n",
       "  </tbody>\n",
       "</table>\n",
       "<p>120 rows × 8 columns</p>\n",
       "</div>"
      ],
      "text/plain": [
       "Sunrise_Sunset          Day                    Night                  \n",
       "Severity                  1      2     3     4     1      2     3    4\n",
       "Weather_Condition                                                     \n",
       "Blowing Dust            NaN   30.0   4.0   NaN   NaN   10.0   0.0  NaN\n",
       "Blowing Dust / Windy    NaN   55.0   4.0   1.0   NaN    3.0   1.0  0.0\n",
       "Blowing Sand            NaN    NaN   1.0   NaN   NaN    NaN   0.0  NaN\n",
       "Blowing Snow            NaN   87.0  90.0  20.0   NaN   34.0  29.0  8.0\n",
       "Blowing Snow / Windy    NaN    5.0   4.0   NaN   NaN    1.0   0.0  NaN\n",
       "...                      ..    ...   ...   ...   ...    ...   ...  ...\n",
       "Volcanic Ash            NaN   17.0   2.0   NaN   NaN    3.0   0.0  NaN\n",
       "Widespread Dust         NaN   93.0  15.0   1.0   NaN   14.0   5.0  1.0\n",
       "Widespread Dust / Windy NaN    NaN   1.0   NaN   NaN    NaN   0.0  NaN\n",
       "Wintry Mix              NaN  282.0  98.0  11.0   NaN  322.0  77.0  9.0\n",
       "Wintry Mix / Windy      NaN    4.0  12.0   0.0   NaN    1.0   2.0  1.0\n",
       "\n",
       "[120 rows x 8 columns]"
      ]
     },
     "execution_count": 31,
     "metadata": {},
     "output_type": "execute_result"
    }
   ],
   "source": [
    "table = pd.crosstab(index=[accidentData.Weather_Condition, accidentData.Severity], columns=[accidentData.Sunrise_Sunset])\n",
    "table.unstack()"
   ]
  },
  {
   "cell_type": "code",
   "execution_count": 32,
   "metadata": {},
   "outputs": [],
   "source": [
    "#Severidad del accindente por cada estado\n",
    "\n",
    "severity_1_by_state = []\n",
    "severity_2_by_state = []\n",
    "severity_3_by_state = []\n",
    "severity_4_by_state = []\n",
    "for i in states:\n",
    "    severity_1_by_state.append(accidentData[(accidentData['Severity']==1)&(accidentData['State']==i)].count()['ID'])\n",
    "    severity_2_by_state.append(accidentData[(accidentData['Severity']==2)&(accidentData['State']==i)].count()['ID'])\n",
    "    severity_3_by_state.append(accidentData[(accidentData['Severity']==3)&(accidentData['State']==i)].count()['ID'])\n",
    "    severity_4_by_state.append(accidentData[(accidentData['Severity']==4)&(accidentData['State']==i)].count()['ID'])\n",
    "\n"
   ]
  },
  {
   "cell_type": "code",
   "execution_count": 33,
   "metadata": {},
   "outputs": [
    {
     "data": {
      "text/plain": [
       "<matplotlib.legend.Legend at 0x247f0232288>"
      ]
     },
     "execution_count": 33,
     "metadata": {},
     "output_type": "execute_result"
    },
    {
     "data": {
      "image/png": "[encoded data removed]",
      "text/plain": [
       "<Figure size 1440x1080 with 1 Axes>"
      ]
     },
     "metadata": {
      "needs_background": "light"
     },
     "output_type": "display_data"
    }
   ],
   "source": [
    "plt.figure(figsize=(20,15))\n",
    "\n",
    "plt.bar(states, severity_1_by_state, label='Severity 1')\n",
    "plt.bar(states, severity_2_by_state, label='Severity 2')\n",
    "plt.bar(states, severity_3_by_state, label='Severity 3')\n",
    "plt.bar(states, severity_4_by_state, label='Severity 4')\n",
    "\n",
    "plt.legend()"
   ]
  },
  {
   "cell_type": "code",
   "execution_count": 34,
   "metadata": {},
   "outputs": [],
   "source": [
    "#Relacion entre temperatura y severidad de los accidentes\n",
    "\n",
    "Temperature = accidentData['Temperature(F)']\n",
    "Severity_1_data = accidentData[accidentData['Severity']==1]['Temperature(F)'].mean()\n",
    "Severity_2_data = accidentData[accidentData['Severity']==2]['Temperature(F)'].mean()\n",
    "Severity_3_data = accidentData[accidentData['Severity']==3]['Temperature(F)'].mean()\n",
    "Severity_4_data = accidentData[accidentData['Severity']==4]['Temperature(F)'].mean()\n",
    "Severity_labels = ['Severity 1', 'Severity 2', 'Severity 3', 'Severity 4']\n",
    "\n",
    "Mean_temp_by_severity = [Severity_1_data, Severity_2_data, Severity_3_data, Severity_4_data]"
   ]
  },
  {
   "cell_type": "code",
   "execution_count": 35,
   "metadata": {},
   "outputs": [
    {
     "data": {
      "image/png": "[encoded data removed]",
      "text/plain": [
       "<Figure size 1152x432 with 1 Axes>"
      ]
     },
     "metadata": {
      "needs_background": "light"
     },
     "output_type": "display_data"
    }
   ],
   "source": [
    "plt.figure(figsize=(16, 6))\n",
    "sns.barplot(Severity_labels, Mean_temp_by_severity)\n",
    "plt.grid(color='black', linestyle='-', linewidth=1, alpha=0.3)"
   ]
  },
  {
   "cell_type": "code",
   "execution_count": 36,
   "metadata": {},
   "outputs": [
    {
     "data": {
      "text/plain": [
       "str"
      ]
     },
     "execution_count": 36,
     "metadata": {},
     "output_type": "execute_result"
    }
   ],
   "source": [
    "# Hora en a que suceden mas accidentes en USA\n",
    "\n",
    "type(accidentData[\"Start_Time\"][1])"
   ]
  },
  {
   "cell_type": "code",
   "execution_count": 37,
   "metadata": {},
   "outputs": [],
   "source": [
    "dt_object = accidentData[\"Start_Time\"][1:30].apply(lambda x: dateutil.parser.parse(x))"
   ]
  },
  {
   "cell_type": "code",
   "execution_count": 38,
   "metadata": {},
   "outputs": [],
   "source": [
    "accidentData[\"Time_added\"] = accidentData[\"Start_Time\"].apply(lambda x: dateutil.parser.parse(x))"
   ]
  },
  {
   "cell_type": "code",
   "execution_count": 39,
   "metadata": {},
   "outputs": [
    {
     "data": {
      "text/plain": [
       "0    5\n",
       "1    6\n",
       "2    6\n",
       "3    7\n",
       "Name: Time_added, dtype: int64"
      ]
     },
     "execution_count": 39,
     "metadata": {},
     "output_type": "execute_result"
    }
   ],
   "source": [
    "accidentData[\"Time_added\"][0:4].apply(lambda timestamp: timestamp.hour)"
   ]
  },
  {
   "cell_type": "code",
   "execution_count": 40,
   "metadata": {},
   "outputs": [
    {
     "data": {
      "text/plain": [
       "<matplotlib.axes._subplots.AxesSubplot at 0x24810db5188>"
      ]
     },
     "execution_count": 40,
     "metadata": {},
     "output_type": "execute_result"
    },
    {
     "data": {
      "image/png": "[encoded data removed]",
      "text/plain": [
       "<Figure size 842.4x595.44 with 1 Axes>"
      ]
     },
     "metadata": {
      "needs_background": "light"
     },
     "output_type": "display_data"
    }
   ],
   "source": [
    "a4_dims = (11.7, 8.27)\n",
    "fig, ax = pyplot.subplots(figsize=a4_dims)\n",
    "sns.countplot(x=accidentData[\"Time_added\"].apply(lambda timestamp: timestamp.hour))"
   ]
  },
  {
   "cell_type": "code",
   "execution_count": 41,
   "metadata": {},
   "outputs": [
    {
     "data": {
      "text/plain": [
       "<seaborn.axisgrid.FacetGrid at 0x24811720088>"
      ]
     },
     "execution_count": 41,
     "metadata": {},
     "output_type": "execute_result"
    },
    {
     "data": {
      "image/png": "[encoded data removed]",
      "text/plain": [
       "<Figure size 720x360 with 1 Axes>"
      ]
     },
     "metadata": {
      "needs_background": "light"
     },
     "output_type": "display_data"
    }
   ],
   "source": [
    "# Cantidad de accidentes por zona horaria\n",
    "\n",
    "sns.factorplot('Timezone', data = accidentData, kind='count', aspect=2)"
   ]
  },
  {
   "cell_type": "code",
   "execution_count": 42,
   "metadata": {},
   "outputs": [],
   "source": [
    "# Accidentes por ano\n",
    "\n",
    "accidentData['Start_Time']= pd.to_datetime(accidentData['Start_Time'])\n",
    "accidentData['hour']= accidentData['Start_Time'].dt.hour\n",
    "accidentData['year']= accidentData['Start_Time'].dt.year\n",
    "accidentData['month']= accidentData['Start_Time'].dt.month\n",
    "accidentData['week']= accidentData['Start_Time'].dt.week\n",
    "accidentData['day']= accidentData['Start_Time'].dt.weekday_name\n",
    "accidentData['quarter']= accidentData['Start_Time'].dt.quarter\n",
    "accidentData['time_zone']= accidentData['Start_Time'].dt.tz\n",
    "accidentData['time']= accidentData['Start_Time'].dt.time"
   ]
  },
  {
   "cell_type": "code",
   "execution_count": 43,
   "metadata": {},
   "outputs": [
    {
     "data": {
      "text/plain": [
       "<matplotlib.axes._subplots.AxesSubplot at 0x24810e0a048>"
      ]
     },
     "execution_count": 43,
     "metadata": {},
     "output_type": "execute_result"
    },
    {
     "data": {
      "image/png": "[encoded data removed]",
      "text/plain": [
       "<Figure size 720x360 with 1 Axes>"
      ]
     },
     "metadata": {
      "needs_background": "light"
     },
     "output_type": "display_data"
    }
   ],
   "source": [
    "plt.figure(figsize =(10,5))\n",
    "accidentData.groupby(['year']).size().sort_values(ascending=True).plot.bar()"
   ]
  },
  {
   "cell_type": "code",
   "execution_count": 44,
   "metadata": {},
   "outputs": [
    {
     "data": {
      "text/plain": [
       "<matplotlib.axes._subplots.AxesSubplot at 0x2481eb0be48>"
      ]
     },
     "execution_count": 44,
     "metadata": {},
     "output_type": "execute_result"
    },
    {
     "data": {
      "image/png": "[encoded data removed]",
      "text/plain": [
       "<Figure size 720x360 with 1 Axes>"
      ]
     },
     "metadata": {
      "needs_background": "light"
     },
     "output_type": "display_data"
    }
   ],
   "source": [
    "plt.figure(figsize =(10,5))\n",
    "accidentData.groupby(['quarter']).size().sort_values(ascending=True).plot.bar()"
   ]
  },
  {
   "cell_type": "code",
   "execution_count": null,
   "metadata": {},
   "outputs": [],
   "source": []
  }
 ],
 "metadata": {
  "kernelspec": {
   "display_name": "Python 3",
   "language": "python",
   "name": "python3"
  },
  "language_info": {
   "codemirror_mode": {
    "name": "ipython",
    "version": 3
   },
   "file_extension": ".py",
   "mimetype": "text/x-python",
   "name": "python",
   "nbconvert_exporter": "python",
   "pygments_lexer": "ipython3",
   "version": "3.7.4"
  }
 },
 "nbformat": 4,
 "nbformat_minor": 2
}
